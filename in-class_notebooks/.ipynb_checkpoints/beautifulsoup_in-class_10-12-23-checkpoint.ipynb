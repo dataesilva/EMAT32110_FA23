{
 "cells": [
  {
   "cell_type": "code",
   "execution_count": 1,
   "id": "ed1dab46",
   "metadata": {},
   "outputs": [],
   "source": [
    "import pandas as pd\n",
    "import requests\n",
    "from bs4 import BeautifulSoup"
   ]
  },
  {
   "cell_type": "code",
   "execution_count": 2,
   "id": "9356378a",
   "metadata": {},
   "outputs": [],
   "source": [
    "zelda_response = requests.get('https://en.wikipedia.org/wiki/The_Legend_of_Zelda')"
   ]
  },
  {
   "cell_type": "code",
   "execution_count": 3,
   "id": "fa359746",
   "metadata": {},
   "outputs": [
    {
     "data": {
      "text/plain": [
       "200"
      ]
     },
     "execution_count": 3,
     "metadata": {},
     "output_type": "execute_result"
    }
   ],
   "source": [
    "zelda_response.status_code"
   ]
  },
  {
   "cell_type": "code",
   "execution_count": 5,
   "id": "d67098ae",
   "metadata": {},
   "outputs": [],
   "source": [
    "zelda_soup = BeautifulSoup(zelda_response.text, 'html.parser')"
   ]
  },
  {
   "cell_type": "code",
   "execution_count": 9,
   "id": "d303a499",
   "metadata": {},
   "outputs": [
    {
     "data": {
      "text/plain": [
       "'Contents'"
      ]
     },
     "execution_count": 9,
     "metadata": {},
     "output_type": "execute_result"
    }
   ],
   "source": [
    "zelda_soup.h2.text"
   ]
  },
  {
   "cell_type": "code",
   "execution_count": 12,
   "id": "7bcd40ff",
   "metadata": {},
   "outputs": [
    {
     "data": {
      "text/plain": [
       "[<span class=\"mw-headline\" id=\"Gameplay\">Gameplay</span>,\n",
       " <span class=\"mw-headline\" id=\"Inspiration\">Inspiration</span>,\n",
       " <span class=\"mw-headline\" id=\"Audio\">Audio</span>,\n",
       " <span class=\"mw-headline\" id=\"Plot\">Plot</span>,\n",
       " <span class=\"mw-headline\" id=\"Setting\">Setting</span>,\n",
       " <span class=\"mw-headline\" id=\"Story\">Story</span>,\n",
       " <span class=\"mw-headline\" id=\"Fictional_chronology\">Fictional chronology</span>,\n",
       " <span class=\"mw-headline\" id=\"Characters\">Characters</span>,\n",
       " <span class=\"mw-headline\" id=\"Link\">Link</span>,\n",
       " <span class=\"mw-headline\" id=\"Princess_Zelda\">Princess Zelda</span>,\n",
       " <span class=\"mw-headline\" id=\"Ganon\">Ganon</span>,\n",
       " <span class=\"mw-headline\" id=\"Development\">Development</span>,\n",
       " <span class=\"mw-headline\" id=\"1986–1997:_2D_origins\">1986–1997: 2D origins</span>,\n",
       " <span class=\"mw-headline\" id=\"1998–2001:_Transition_to_3D\">1998–2001: Transition to 3D</span>,\n",
       " <span class=\"mw-headline\" id=\"2002–2005:_Introduction_of_Toon_Link_and_multiplayer\">2002–2005: Introduction of Toon Link and multiplayer</span>,\n",
       " <span class=\"mw-headline\" id=\"2006–2011:_Motion_and_touch-based_swordplay\">2006–2011: Motion and touch-based swordplay</span>,\n",
       " <span class=\"mw-headline\" id=\"2013–present:_Open-world_emphasis\">2013–present: Open-world emphasis</span>,\n",
       " <span class=\"mw-headline\" id=\"Other_games\">Other games</span>,\n",
       " <span class=\"mw-headline\" id=\"Cancelled_games\">Cancelled games</span>,\n",
       " <span class=\"mw-headline\" id=\"Spin-off_games\">Spin-off games</span>,\n",
       " <span class=\"mw-headline\" id=\"Reception\">Reception</span>,\n",
       " <span class=\"mw-headline\" id=\"Legacy\">Legacy</span>,\n",
       " <span class=\"mw-headline\" id=\"Cross-overs\">Cross-overs</span>,\n",
       " <span class=\"mw-headline\" id=\"In_other_media\">In other media</span>,\n",
       " <span class=\"mw-headline\" id=\"TV_series\">TV series</span>,\n",
       " <span class=\"mw-headline\" id=\"Print_media\">Print media</span>,\n",
       " <span class=\"mw-headline\" id=\"Music\">Music</span>,\n",
       " <span class=\"mw-headline\" id=\"Merchandise\">Merchandise</span>,\n",
       " <span class=\"mw-headline\" id=\"Potential_films\">Potential films</span>,\n",
       " <span class=\"mw-headline\" id=\"Notes\">Notes</span>,\n",
       " <span class=\"mw-headline\" id=\"References\">References</span>,\n",
       " <span class=\"mw-headline\" id=\"External_links\">External links</span>]"
      ]
     },
     "execution_count": 12,
     "metadata": {},
     "output_type": "execute_result"
    }
   ],
   "source": [
    "zelda_soup.find_all('span', attrs = {'class': 'mw-headline'})"
   ]
  },
  {
   "cell_type": "code",
   "execution_count": 13,
   "id": "33f83f8e",
   "metadata": {},
   "outputs": [
    {
     "data": {
      "text/plain": [
       "['Gameplay',\n",
       " 'Inspiration',\n",
       " 'Audio',\n",
       " 'Plot',\n",
       " 'Setting',\n",
       " 'Story',\n",
       " 'Fictional chronology',\n",
       " 'Characters',\n",
       " 'Link',\n",
       " 'Princess Zelda',\n",
       " 'Ganon',\n",
       " 'Development',\n",
       " '1986–1997: 2D origins',\n",
       " '1998–2001: Transition to 3D',\n",
       " '2002–2005: Introduction of Toon Link and multiplayer',\n",
       " '2006–2011: Motion and touch-based swordplay',\n",
       " '2013–present: Open-world emphasis',\n",
       " 'Other games',\n",
       " 'Cancelled games',\n",
       " 'Spin-off games',\n",
       " 'Reception',\n",
       " 'Legacy',\n",
       " 'Cross-overs',\n",
       " 'In other media',\n",
       " 'TV series',\n",
       " 'Print media',\n",
       " 'Music',\n",
       " 'Merchandise',\n",
       " 'Potential films',\n",
       " 'Notes',\n",
       " 'References',\n",
       " 'External links']"
      ]
     },
     "execution_count": 13,
     "metadata": {},
     "output_type": "execute_result"
    }
   ],
   "source": [
    "[x.text for x in zelda_soup.find_all('span', attrs = {'class': 'mw-headline'})]"
   ]
  }
 ],
 "metadata": {
  "kernelspec": {
   "display_name": "Python 3 (ipykernel)",
   "language": "python",
   "name": "python3"
  },
  "language_info": {
   "codemirror_mode": {
    "name": "ipython",
    "version": 3
   },
   "file_extension": ".py",
   "mimetype": "text/x-python",
   "name": "python",
   "nbconvert_exporter": "python",
   "pygments_lexer": "ipython3",
   "version": "3.11.4"
  }
 },
 "nbformat": 4,
 "nbformat_minor": 5
}
