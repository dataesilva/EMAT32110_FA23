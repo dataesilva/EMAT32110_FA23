{
 "cells": [
  {
   "cell_type": "code",
   "execution_count": 1,
   "id": "61d8de54",
   "metadata": {},
   "outputs": [],
   "source": [
    "import requests\n",
    "import pandas as pd"
   ]
  },
  {
   "cell_type": "code",
   "execution_count": 2,
   "id": "0845989d",
   "metadata": {},
   "outputs": [],
   "source": [
    "response = requests.get('https://en.wikipedia.org/wiki/Triumph_Street_Triple')"
   ]
  },
  {
   "cell_type": "code",
   "execution_count": 3,
   "id": "42b8dd3c",
   "metadata": {},
   "outputs": [
    {
     "data": {
      "text/plain": [
       "200"
      ]
     },
     "execution_count": 3,
     "metadata": {},
     "output_type": "execute_result"
    }
   ],
   "source": [
    "response.status_code"
   ]
  },
  {
   "cell_type": "code",
   "execution_count": 4,
   "id": "3660c80e",
   "metadata": {},
   "outputs": [
    {
     "data": {
      "text/plain": [
       "'<!DOCTYPE html>\\n<html class=\"client-nojs vector-fe'"
      ]
     },
     "execution_count": 4,
     "metadata": {},
     "output_type": "execute_result"
    }
   ],
   "source": [
    "response.text[0:50]"
   ]
  },
  {
   "cell_type": "code",
   "execution_count": 5,
   "id": "0d622850",
   "metadata": {},
   "outputs": [],
   "source": [
    "my_header = {\"User-Agent\": \"Mozilla/5.0 (Windows NT 10.0; Win64; x64) AppleWebKit/537.36 (KHTML, like Gecko) Chrome/116.0.0.0 Safari/537.36\"}"
   ]
  },
  {
   "cell_type": "code",
   "execution_count": 6,
   "id": "23421021",
   "metadata": {},
   "outputs": [],
   "source": [
    "response2 = requests.get('https://en.wikipedia.org/wik/Triumph_Street_Triple', headers = my_header)"
   ]
  },
  {
   "cell_type": "code",
   "execution_count": 7,
   "id": "a45a6647",
   "metadata": {},
   "outputs": [
    {
     "data": {
      "text/plain": [
       "404"
      ]
     },
     "execution_count": 7,
     "metadata": {},
     "output_type": "execute_result"
    }
   ],
   "source": [
    "response2.status_code"
   ]
  },
  {
   "cell_type": "code",
   "execution_count": 8,
   "id": "a80c6d42",
   "metadata": {},
   "outputs": [
    {
     "data": {
      "text/plain": [
       "'<!DOCTYPE html>\\n<html lang=\"en\" dir=\"ltr\">\\n<meta charset=\"utf-8\">\\n<title>Not Found</title>\\n<link rel=\"shortcut icon\" href=\"/favicon.ico\">\\n<style>\\n* { margin: 0; padding: 0; }\\nbody { background: #fff; color: #202122; font: 0.938em/1.6 sans-serif; }\\n.content { margin: 7% auto 0; padding: 2em 1em 1em; max-width: 640px; }\\nimg { float: left; margin: 0 2em 2em 0; }\\na img { border: 0; }\\nh1 { margin-top: 1em; font-size: 1.2em; }\\np { margin: 0.7em 0 1em 0; }\\na { color: #36c; text-decoration: none; }\\na:hover { text-decoration: underline; }\\nem { color: #72777d; font-style: normal; }\\n</style>\\n<div class=\"content\" role=\"main\">\\n<a href=\"https://www.wikimedia.org\"><img src=\"https://www.wikimedia.org/static/images/wmf.png\" srcset=\"https://www.wikimedia.org/static/images/wmf-2x.png 2x\" alt=Wikimedia width=135 height=135></a>\\n<h1>Page not found</h1>\\n<p><em>/wik/Triumph_Street_Triple</em></p>\\n<p>We could not find the above page on our servers.</p>\\n<p><b>Did you mean: <a href=\"/wiki/wik/Triumph_Street_Triple\">/wiki/wik/Triumph_Street_Triple</a></b></p>\\n<p style=\"clear:both;\">Alternatively, you can visit the <a href=\"/\">Main Page</a> or read <a href=\"https://en.wikipedia.org/wiki/HTTP_404\" title=\"Wikipedia: HTTP 404\">more information</a> about this type of error.</p>\\n</div>\\n</html>'"
      ]
     },
     "execution_count": 8,
     "metadata": {},
     "output_type": "execute_result"
    }
   ],
   "source": [
    "response2.text"
   ]
  },
  {
   "cell_type": "code",
   "execution_count": 9,
   "id": "346331cf",
   "metadata": {},
   "outputs": [],
   "source": [
    "Client_ID = pd.read_csv(r\"C:\\Users\\dsilva2\\Spotify-Keys_9-23-21.txt\")['Client_ID'].iloc[0]"
   ]
  },
  {
   "cell_type": "code",
   "execution_count": 10,
   "id": "bb6c2a7a",
   "metadata": {},
   "outputs": [],
   "source": [
    "Client_Secret = pd.read_csv(r\"C:\\Users\\dsilva2\\Spotify-Keys_9-23-21.txt\")['Client_Secret'].iloc[0]"
   ]
  },
  {
   "cell_type": "code",
   "execution_count": 11,
   "id": "55b4277d",
   "metadata": {},
   "outputs": [],
   "source": [
    "# Client_ID"
   ]
  },
  {
   "cell_type": "code",
   "execution_count": 12,
   "id": "8925dead",
   "metadata": {},
   "outputs": [],
   "source": [
    "# Client_Secret"
   ]
  }
 ],
 "metadata": {
  "kernelspec": {
   "display_name": "Python 3 (ipykernel)",
   "language": "python",
   "name": "python3"
  },
  "language_info": {
   "codemirror_mode": {
    "name": "ipython",
    "version": 3
   },
   "file_extension": ".py",
   "mimetype": "text/x-python",
   "name": "python",
   "nbconvert_exporter": "python",
   "pygments_lexer": "ipython3",
   "version": "3.11.4"
  }
 },
 "nbformat": 4,
 "nbformat_minor": 5
}
