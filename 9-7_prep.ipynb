{
 "cells": [
  {
   "cell_type": "code",
   "execution_count": 1,
   "id": "25563e2e",
   "metadata": {},
   "outputs": [],
   "source": [
    "import pandas as pd\n",
    "import json"
   ]
  },
  {
   "cell_type": "code",
   "execution_count": 2,
   "id": "ba85cf86",
   "metadata": {},
   "outputs": [],
   "source": [
    "with open(r\"C:\\Users\\dsilva2\\facebook-davidsilva100046_FA23\\messages\\inbox\\chessbuds_3243775372391981\\message_1.json\") as m:\n",
    "    chess_mess = json.load(m)"
   ]
  },
  {
   "cell_type": "code",
   "execution_count": 3,
   "id": "5ae94763",
   "metadata": {},
   "outputs": [],
   "source": [
    "def json_loader(file_path):\n",
    "    with open(file_path) as f:\n",
    "        out = json.load(f)\n",
    "    return out"
   ]
  },
  {
   "cell_type": "code",
   "execution_count": 4,
   "id": "4763ddb0",
   "metadata": {},
   "outputs": [],
   "source": [
    "chess_mess = json_loader(r\"C:\\Users\\dsilva2\\facebook-davidsilva100046_FA23\\messages\\inbox\\chessbuds_3243775372391981\\message_1.json\")"
   ]
  },
  {
   "cell_type": "code",
   "execution_count": 5,
   "id": "76b5f81e",
   "metadata": {},
   "outputs": [],
   "source": [
    "chess_df = pd.DataFrame(chess_mess['messages'])"
   ]
  },
  {
   "cell_type": "code",
   "execution_count": 6,
   "id": "1d01e2a1",
   "metadata": {},
   "outputs": [
    {
     "data": {
      "text/html": [
       "<div>\n",
       "<style scoped>\n",
       "    .dataframe tbody tr th:only-of-type {\n",
       "        vertical-align: middle;\n",
       "    }\n",
       "\n",
       "    .dataframe tbody tr th {\n",
       "        vertical-align: top;\n",
       "    }\n",
       "\n",
       "    .dataframe thead th {\n",
       "        text-align: right;\n",
       "    }\n",
       "</style>\n",
       "<table border=\"1\" class=\"dataframe\">\n",
       "  <thead>\n",
       "    <tr style=\"text-align: right;\">\n",
       "      <th></th>\n",
       "      <th>sender_name</th>\n",
       "      <th>timestamp_ms</th>\n",
       "      <th>gifs</th>\n",
       "      <th>reactions</th>\n",
       "      <th>content</th>\n",
       "      <th>share</th>\n",
       "      <th>photos</th>\n",
       "    </tr>\n",
       "  </thead>\n",
       "  <tbody>\n",
       "    <tr>\n",
       "      <th>93</th>\n",
       "      <td>Scott Pence</td>\n",
       "      <td>1662434412006</td>\n",
       "      <td>NaN</td>\n",
       "      <td>NaN</td>\n",
       "      <td>Has anyone else heard about Magnus dropping ou...</td>\n",
       "      <td>NaN</td>\n",
       "      <td>NaN</td>\n",
       "    </tr>\n",
       "    <tr>\n",
       "      <th>92</th>\n",
       "      <td>Chad Larson</td>\n",
       "      <td>1662480499917</td>\n",
       "      <td>NaN</td>\n",
       "      <td>NaN</td>\n",
       "      <td>That was super strange.  The whole cheating al...</td>\n",
       "      <td>NaN</td>\n",
       "      <td>NaN</td>\n",
       "    </tr>\n",
       "    <tr>\n",
       "      <th>91</th>\n",
       "      <td>Joanna Rusch</td>\n",
       "      <td>1662489529941</td>\n",
       "      <td>NaN</td>\n",
       "      <td>NaN</td>\n",
       "      <td>I guess I'm not sure how one would cheat in OT...</td>\n",
       "      <td>NaN</td>\n",
       "      <td>NaN</td>\n",
       "    </tr>\n",
       "    <tr>\n",
       "      <th>90</th>\n",
       "      <td>Scott Pence</td>\n",
       "      <td>1662489718995</td>\n",
       "      <td>[{'uri': 'messages/inbox/chessbuds_32437753723...</td>\n",
       "      <td>NaN</td>\n",
       "      <td>NaN</td>\n",
       "      <td>NaN</td>\n",
       "      <td>NaN</td>\n",
       "    </tr>\n",
       "    <tr>\n",
       "      <th>89</th>\n",
       "      <td>Scott Pence</td>\n",
       "      <td>1662489732856</td>\n",
       "      <td>NaN</td>\n",
       "      <td>NaN</td>\n",
       "      <td>Means rookB1</td>\n",
       "      <td>NaN</td>\n",
       "      <td>NaN</td>\n",
       "    </tr>\n",
       "  </tbody>\n",
       "</table>\n",
       "</div>"
      ],
      "text/plain": [
       "     sender_name   timestamp_ms  \\\n",
       "93   Scott Pence  1662434412006   \n",
       "92   Chad Larson  1662480499917   \n",
       "91  Joanna Rusch  1662489529941   \n",
       "90   Scott Pence  1662489718995   \n",
       "89   Scott Pence  1662489732856   \n",
       "\n",
       "                                                 gifs reactions  \\\n",
       "93                                                NaN       NaN   \n",
       "92                                                NaN       NaN   \n",
       "91                                                NaN       NaN   \n",
       "90  [{'uri': 'messages/inbox/chessbuds_32437753723...       NaN   \n",
       "89                                                NaN       NaN   \n",
       "\n",
       "                                              content share photos  \n",
       "93  Has anyone else heard about Magnus dropping ou...   NaN    NaN  \n",
       "92  That was super strange.  The whole cheating al...   NaN    NaN  \n",
       "91  I guess I'm not sure how one would cheat in OT...   NaN    NaN  \n",
       "90                                                NaN   NaN    NaN  \n",
       "89                                       Means rookB1   NaN    NaN  "
      ]
     },
     "execution_count": 6,
     "metadata": {},
     "output_type": "execute_result"
    }
   ],
   "source": [
    "chess_df.sort_values('timestamp_ms', ascending = True).head()"
   ]
  },
  {
   "cell_type": "code",
   "execution_count": 7,
   "id": "10cad76c",
   "metadata": {},
   "outputs": [],
   "source": [
    "chess_df_sorted = chess_df.sort_values('timestamp_ms', ascending = True)"
   ]
  },
  {
   "cell_type": "code",
   "execution_count": 8,
   "id": "3baab3e3",
   "metadata": {},
   "outputs": [
    {
     "data": {
      "text/html": [
       "<div>\n",
       "<style scoped>\n",
       "    .dataframe tbody tr th:only-of-type {\n",
       "        vertical-align: middle;\n",
       "    }\n",
       "\n",
       "    .dataframe tbody tr th {\n",
       "        vertical-align: top;\n",
       "    }\n",
       "\n",
       "    .dataframe thead th {\n",
       "        text-align: right;\n",
       "    }\n",
       "</style>\n",
       "<table border=\"1\" class=\"dataframe\">\n",
       "  <thead>\n",
       "    <tr style=\"text-align: right;\">\n",
       "      <th></th>\n",
       "      <th>timestamp_ms</th>\n",
       "      <th>gifs</th>\n",
       "      <th>reactions</th>\n",
       "      <th>content</th>\n",
       "      <th>share</th>\n",
       "      <th>photos</th>\n",
       "    </tr>\n",
       "    <tr>\n",
       "      <th>sender_name</th>\n",
       "      <th></th>\n",
       "      <th></th>\n",
       "      <th></th>\n",
       "      <th></th>\n",
       "      <th></th>\n",
       "      <th></th>\n",
       "    </tr>\n",
       "  </thead>\n",
       "  <tbody>\n",
       "    <tr>\n",
       "      <th>Angela Babbitt Pence</th>\n",
       "      <td>2</td>\n",
       "      <td>0</td>\n",
       "      <td>2</td>\n",
       "      <td>2</td>\n",
       "      <td>0</td>\n",
       "      <td>0</td>\n",
       "    </tr>\n",
       "    <tr>\n",
       "      <th>Chad Larson</th>\n",
       "      <td>17</td>\n",
       "      <td>0</td>\n",
       "      <td>6</td>\n",
       "      <td>17</td>\n",
       "      <td>3</td>\n",
       "      <td>0</td>\n",
       "    </tr>\n",
       "    <tr>\n",
       "      <th>David Silva</th>\n",
       "      <td>4</td>\n",
       "      <td>0</td>\n",
       "      <td>2</td>\n",
       "      <td>4</td>\n",
       "      <td>1</td>\n",
       "      <td>0</td>\n",
       "    </tr>\n",
       "    <tr>\n",
       "      <th>Joanna Rusch</th>\n",
       "      <td>20</td>\n",
       "      <td>2</td>\n",
       "      <td>7</td>\n",
       "      <td>17</td>\n",
       "      <td>2</td>\n",
       "      <td>1</td>\n",
       "    </tr>\n",
       "    <tr>\n",
       "      <th>Scott Pence</th>\n",
       "      <td>51</td>\n",
       "      <td>2</td>\n",
       "      <td>12</td>\n",
       "      <td>38</td>\n",
       "      <td>9</td>\n",
       "      <td>11</td>\n",
       "    </tr>\n",
       "  </tbody>\n",
       "</table>\n",
       "</div>"
      ],
      "text/plain": [
       "                      timestamp_ms  gifs  reactions  content  share  photos\n",
       "sender_name                                                                \n",
       "Angela Babbitt Pence             2     0          2        2      0       0\n",
       "Chad Larson                     17     0          6       17      3       0\n",
       "David Silva                      4     0          2        4      1       0\n",
       "Joanna Rusch                    20     2          7       17      2       1\n",
       "Scott Pence                     51     2         12       38      9      11"
      ]
     },
     "execution_count": 8,
     "metadata": {},
     "output_type": "execute_result"
    }
   ],
   "source": [
    "chess_df_sorted.groupby('sender_name').count()"
   ]
  },
  {
   "cell_type": "code",
   "execution_count": 9,
   "id": "652a929e",
   "metadata": {},
   "outputs": [],
   "source": [
    "from matplotlib import pyplot as plt"
   ]
  },
  {
   "cell_type": "code",
   "execution_count": 10,
   "id": "cabb290b",
   "metadata": {},
   "outputs": [
    {
     "data": {
      "image/png": "[encoded data removed]",
      "text/plain": [
       "<Figure size 640x480 with 1 Axes>"
      ]
     },
     "metadata": {},
     "output_type": "display_data"
    }
   ],
   "source": [
    "chess_df_sorted.groupby('sender_name').count()['content'].plot(kind = 'bar')\n",
    "plt.show()"
   ]
  },
  {
   "cell_type": "code",
   "execution_count": 11,
   "id": "03b5495a",
   "metadata": {},
   "outputs": [
    {
     "data": {
      "image/png": "[encoded data removed]",
      "text/plain": [
       "<Figure size 640x480 with 1 Axes>"
      ]
     },
     "metadata": {},
     "output_type": "display_data"
    }
   ],
   "source": [
    "chess_df_sorted.groupby('sender_name').count()[['content', 'reactions']].plot(kind = 'bar')\n",
    "plt.show()"
   ]
  }
 ],
 "metadata": {
  "kernelspec": {
   "display_name": "Python 3 (ipykernel)",
   "language": "python",
   "name": "python3"
  },
  "language_info": {
   "codemirror_mode": {
    "name": "ipython",
    "version": 3
   },
   "file_extension": ".py",
   "mimetype": "text/x-python",
   "name": "python",
   "nbconvert_exporter": "python",
   "pygments_lexer": "ipython3",
   "version": "3.11.4"
  }
 },
 "nbformat": 4,
 "nbformat_minor": 5
}
