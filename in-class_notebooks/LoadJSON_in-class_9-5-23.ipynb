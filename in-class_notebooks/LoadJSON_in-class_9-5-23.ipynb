{
 "cells": [
  {
   "cell_type": "markdown",
   "id": "362fda32",
   "metadata": {},
   "source": [
    "#### Objectives\n",
    "1. Make required packages/modules accessible using `import` statements\n",
    "2. Code scaffolding processes\n",
    "3. Locating and using filepaths\n",
    "4. Using `with` statements and `open()` functions\n",
    "5. Using `json.load()`"
   ]
  },
  {
   "cell_type": "code",
   "execution_count": 1,
   "id": "1a73a443",
   "metadata": {},
   "outputs": [],
   "source": [
    "import pandas as pd\n",
    "import json"
   ]
  },
  {
   "cell_type": "markdown",
   "id": "e63f92e7",
   "metadata": {},
   "source": [
    "The following code cell throws an error because `json.loads()` is different from `json.load()`. `loads` expects a Python string object, which we have not created by opening a file. Instead, we have a text file containing a JSON document. So, we should use `load()`."
   ]
  },
  {
   "cell_type": "markdown",
   "id": "f5c4951b",
   "metadata": {},
   "source": [
    "##### Incorrect because `j` is not a Python string but instead is a file containing a JSON document"
   ]
  },
  {
   "cell_type": "code",
   "execution_count": 2,
   "id": "39ff756d",
   "metadata": {},
   "outputs": [
    {
     "ename": "TypeError",
     "evalue": "the JSON object must be str, bytes or bytearray, not TextIOWrapper",
     "output_type": "error",
     "traceback": [
      "\u001b[1;31m---------------------------------------------------------------------------\u001b[0m",
      "\u001b[1;31mTypeError\u001b[0m                                 Traceback (most recent call last)",
      "Cell \u001b[1;32mIn[2], line 2\u001b[0m\n\u001b[0;32m      1\u001b[0m \u001b[38;5;28;01mwith\u001b[39;00m \u001b[38;5;28mopen\u001b[39m(\u001b[38;5;124mr\u001b[39m\u001b[38;5;124m'\u001b[39m\u001b[38;5;124mC:\u001b[39m\u001b[38;5;124m\\\u001b[39m\u001b[38;5;124mUsers\u001b[39m\u001b[38;5;124m\\\u001b[39m\u001b[38;5;124mdsilva2\u001b[39m\u001b[38;5;124m\\\u001b[39m\u001b[38;5;124mfacebook-davidsilva100046_FA23\u001b[39m\u001b[38;5;124m\\\u001b[39m\u001b[38;5;124mcomments_and_reactions\u001b[39m\u001b[38;5;124m\\\u001b[39m\u001b[38;5;124mlikes_and_reactions_1.json\u001b[39m\u001b[38;5;124m'\u001b[39m) \u001b[38;5;28;01mas\u001b[39;00m j:\n\u001b[1;32m----> 2\u001b[0m     my_data \u001b[38;5;241m=\u001b[39m json\u001b[38;5;241m.\u001b[39mloads(j)\n",
      "File \u001b[1;32m~\\AppData\\Local\\Continuum\\anaconda3\\envs\\data-fa23\\Lib\\json\\__init__.py:339\u001b[0m, in \u001b[0;36mloads\u001b[1;34m(s, cls, object_hook, parse_float, parse_int, parse_constant, object_pairs_hook, **kw)\u001b[0m\n\u001b[0;32m    337\u001b[0m \u001b[38;5;28;01melse\u001b[39;00m:\n\u001b[0;32m    338\u001b[0m     \u001b[38;5;28;01mif\u001b[39;00m \u001b[38;5;129;01mnot\u001b[39;00m \u001b[38;5;28misinstance\u001b[39m(s, (\u001b[38;5;28mbytes\u001b[39m, \u001b[38;5;28mbytearray\u001b[39m)):\n\u001b[1;32m--> 339\u001b[0m         \u001b[38;5;28;01mraise\u001b[39;00m \u001b[38;5;167;01mTypeError\u001b[39;00m(\u001b[38;5;124mf\u001b[39m\u001b[38;5;124m'\u001b[39m\u001b[38;5;124mthe JSON object must be str, bytes or bytearray, \u001b[39m\u001b[38;5;124m'\u001b[39m\n\u001b[0;32m    340\u001b[0m                         \u001b[38;5;124mf\u001b[39m\u001b[38;5;124m'\u001b[39m\u001b[38;5;124mnot \u001b[39m\u001b[38;5;132;01m{\u001b[39;00ms\u001b[38;5;241m.\u001b[39m\u001b[38;5;18m__class__\u001b[39m\u001b[38;5;241m.\u001b[39m\u001b[38;5;18m__name__\u001b[39m\u001b[38;5;132;01m}\u001b[39;00m\u001b[38;5;124m'\u001b[39m)\n\u001b[0;32m    341\u001b[0m     s \u001b[38;5;241m=\u001b[39m s\u001b[38;5;241m.\u001b[39mdecode(detect_encoding(s), \u001b[38;5;124m'\u001b[39m\u001b[38;5;124msurrogatepass\u001b[39m\u001b[38;5;124m'\u001b[39m)\n\u001b[0;32m    343\u001b[0m \u001b[38;5;28;01mif\u001b[39;00m (\u001b[38;5;28mcls\u001b[39m \u001b[38;5;129;01mis\u001b[39;00m \u001b[38;5;28;01mNone\u001b[39;00m \u001b[38;5;129;01mand\u001b[39;00m object_hook \u001b[38;5;129;01mis\u001b[39;00m \u001b[38;5;28;01mNone\u001b[39;00m \u001b[38;5;129;01mand\u001b[39;00m\n\u001b[0;32m    344\u001b[0m         parse_int \u001b[38;5;129;01mis\u001b[39;00m \u001b[38;5;28;01mNone\u001b[39;00m \u001b[38;5;129;01mand\u001b[39;00m parse_float \u001b[38;5;129;01mis\u001b[39;00m \u001b[38;5;28;01mNone\u001b[39;00m \u001b[38;5;129;01mand\u001b[39;00m\n\u001b[0;32m    345\u001b[0m         parse_constant \u001b[38;5;129;01mis\u001b[39;00m \u001b[38;5;28;01mNone\u001b[39;00m \u001b[38;5;129;01mand\u001b[39;00m object_pairs_hook \u001b[38;5;129;01mis\u001b[39;00m \u001b[38;5;28;01mNone\u001b[39;00m \u001b[38;5;129;01mand\u001b[39;00m \u001b[38;5;129;01mnot\u001b[39;00m kw):\n",
      "\u001b[1;31mTypeError\u001b[0m: the JSON object must be str, bytes or bytearray, not TextIOWrapper"
     ]
    }
   ],
   "source": [
    "with open(r'C:\\Users\\dsilva2\\facebook-davidsilva100046_FA23\\comments_and_reactions\\likes_and_reactions_1.json') as j:\n",
    "    my_data = json.loads(j)"
   ]
  },
  {
   "cell_type": "markdown",
   "id": "00679638",
   "metadata": {},
   "source": [
    "##### Correct use of `json.load()` for files containing JSON documents"
   ]
  },
  {
   "cell_type": "code",
   "execution_count": 3,
   "id": "cc1b328b",
   "metadata": {},
   "outputs": [],
   "source": [
    "with open(r'C:\\Users\\dsilva2\\facebook-davidsilva100046_FA23\\comments_and_reactions\\likes_and_reactions_1.json') as j:\n",
    "    my_data = json.load(j)"
   ]
  },
  {
   "cell_type": "markdown",
   "id": "ec95faa4",
   "metadata": {},
   "source": [
    "To validate that the load worked correctly, we can call our newly assigned variable. However, we do not want this output saved with our Notebook for privacy reasons. So instead we will look at slices of our data."
   ]
  },
  {
   "cell_type": "code",
   "execution_count": 4,
   "id": "1089f0b7",
   "metadata": {},
   "outputs": [
    {
     "data": {
      "text/plain": [
       "1664922140"
      ]
     },
     "execution_count": 4,
     "metadata": {},
     "output_type": "execute_result"
    }
   ],
   "source": [
    "my_data[0]['timestamp']"
   ]
  },
  {
   "cell_type": "markdown",
   "id": "bc9c0c6c",
   "metadata": {},
   "source": [
    "We will talk about parsing Python objects and selecting elements in the next class."
   ]
  }
 ],
 "metadata": {
  "kernelspec": {
   "display_name": "Python 3 (ipykernel)",
   "language": "python",
   "name": "python3"
  },
  "language_info": {
   "codemirror_mode": {
    "name": "ipython",
    "version": 3
   },
   "file_extension": ".py",
   "mimetype": "text/x-python",
   "name": "python",
   "nbconvert_exporter": "python",
   "pygments_lexer": "ipython3",
   "version": "3.11.4"
  }
 },
 "nbformat": 4,
 "nbformat_minor": 5
}
