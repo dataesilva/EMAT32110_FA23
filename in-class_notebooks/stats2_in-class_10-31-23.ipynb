{
 "cells": [
  {
   "cell_type": "code",
   "execution_count": 1,
   "id": "5aec9f60",
   "metadata": {},
   "outputs": [],
   "source": [
    "import pandas as pd\n",
    "import numpy as np\n",
    "from scipy import stats\n",
    "from matplotlib import pyplot as plt"
   ]
  },
  {
   "cell_type": "code",
   "execution_count": 2,
   "id": "20e97865",
   "metadata": {},
   "outputs": [
    {
     "data": {
      "text/html": [
       "<div>\n",
       "<style scoped>\n",
       "    .dataframe tbody tr th:only-of-type {\n",
       "        vertical-align: middle;\n",
       "    }\n",
       "\n",
       "    .dataframe tbody tr th {\n",
       "        vertical-align: top;\n",
       "    }\n",
       "\n",
       "    .dataframe thead th {\n",
       "        text-align: right;\n",
       "    }\n",
       "</style>\n",
       "<table border=\"1\" class=\"dataframe\">\n",
       "  <thead>\n",
       "    <tr style=\"text-align: right;\">\n",
       "      <th></th>\n",
       "      <th>Unnamed: 0</th>\n",
       "      <th>danceability</th>\n",
       "      <th>energy</th>\n",
       "      <th>key</th>\n",
       "      <th>loudness</th>\n",
       "      <th>mode</th>\n",
       "      <th>speechiness</th>\n",
       "      <th>acousticness</th>\n",
       "      <th>instrumentalness</th>\n",
       "      <th>liveness</th>\n",
       "      <th>valence</th>\n",
       "      <th>tempo</th>\n",
       "      <th>type</th>\n",
       "      <th>id</th>\n",
       "      <th>uri</th>\n",
       "      <th>track_href</th>\n",
       "      <th>analysis_url</th>\n",
       "      <th>duration_ms</th>\n",
       "      <th>time_signature</th>\n",
       "      <th>album</th>\n",
       "    </tr>\n",
       "  </thead>\n",
       "  <tbody>\n",
       "    <tr>\n",
       "      <th>0</th>\n",
       "      <td>0</td>\n",
       "      <td>0.735</td>\n",
       "      <td>0.444</td>\n",
       "      <td>10</td>\n",
       "      <td>-10.519</td>\n",
       "      <td>1</td>\n",
       "      <td>0.0684</td>\n",
       "      <td>0.2040</td>\n",
       "      <td>0.001200</td>\n",
       "      <td>0.1700</td>\n",
       "      <td>0.0984</td>\n",
       "      <td>97.038</td>\n",
       "      <td>audio_features</td>\n",
       "      <td>4g2c7NoTWAOSYDy44l9nub</td>\n",
       "      <td>spotify:track:4g2c7NoTWAOSYDy44l9nub</td>\n",
       "      <td>https://api.spotify.com/v1/tracks/4g2c7NoTWAOS...</td>\n",
       "      <td>https://api.spotify.com/v1/audio-analysis/4g2c...</td>\n",
       "      <td>202396</td>\n",
       "      <td>4</td>\n",
       "      <td>midnights</td>\n",
       "    </tr>\n",
       "    <tr>\n",
       "      <th>1</th>\n",
       "      <td>1</td>\n",
       "      <td>0.658</td>\n",
       "      <td>0.378</td>\n",
       "      <td>7</td>\n",
       "      <td>-8.300</td>\n",
       "      <td>1</td>\n",
       "      <td>0.0379</td>\n",
       "      <td>0.0593</td>\n",
       "      <td>0.000000</td>\n",
       "      <td>0.0976</td>\n",
       "      <td>0.0382</td>\n",
       "      <td>108.034</td>\n",
       "      <td>audio_features</td>\n",
       "      <td>199E1RRrVmVTQqBXih5qRC</td>\n",
       "      <td>spotify:track:199E1RRrVmVTQqBXih5qRC</td>\n",
       "      <td>https://api.spotify.com/v1/tracks/199E1RRrVmVT...</td>\n",
       "      <td>https://api.spotify.com/v1/audio-analysis/199E...</td>\n",
       "      <td>218271</td>\n",
       "      <td>4</td>\n",
       "      <td>midnights</td>\n",
       "    </tr>\n",
       "    <tr>\n",
       "      <th>2</th>\n",
       "      <td>2</td>\n",
       "      <td>0.638</td>\n",
       "      <td>0.634</td>\n",
       "      <td>4</td>\n",
       "      <td>-6.582</td>\n",
       "      <td>1</td>\n",
       "      <td>0.0457</td>\n",
       "      <td>0.1330</td>\n",
       "      <td>0.000001</td>\n",
       "      <td>0.1520</td>\n",
       "      <td>0.5190</td>\n",
       "      <td>96.953</td>\n",
       "      <td>audio_features</td>\n",
       "      <td>02Zkkf2zMkwRGQjZ7T4p8f</td>\n",
       "      <td>spotify:track:02Zkkf2zMkwRGQjZ7T4p8f</td>\n",
       "      <td>https://api.spotify.com/v1/tracks/02Zkkf2zMkwR...</td>\n",
       "      <td>https://api.spotify.com/v1/audio-analysis/02Zk...</td>\n",
       "      <td>200690</td>\n",
       "      <td>4</td>\n",
       "      <td>midnights</td>\n",
       "    </tr>\n",
       "    <tr>\n",
       "      <th>3</th>\n",
       "      <td>3</td>\n",
       "      <td>0.659</td>\n",
       "      <td>0.323</td>\n",
       "      <td>9</td>\n",
       "      <td>-13.425</td>\n",
       "      <td>1</td>\n",
       "      <td>0.0436</td>\n",
       "      <td>0.7350</td>\n",
       "      <td>0.003210</td>\n",
       "      <td>0.1160</td>\n",
       "      <td>0.1540</td>\n",
       "      <td>110.007</td>\n",
       "      <td>audio_features</td>\n",
       "      <td>6ADDIJxxqzM9LMpm78yzQG</td>\n",
       "      <td>spotify:track:6ADDIJxxqzM9LMpm78yzQG</td>\n",
       "      <td>https://api.spotify.com/v1/tracks/6ADDIJxxqzM9...</td>\n",
       "      <td>https://api.spotify.com/v1/audio-analysis/6ADD...</td>\n",
       "      <td>256124</td>\n",
       "      <td>4</td>\n",
       "      <td>midnights</td>\n",
       "    </tr>\n",
       "    <tr>\n",
       "      <th>4</th>\n",
       "      <td>4</td>\n",
       "      <td>0.694</td>\n",
       "      <td>0.380</td>\n",
       "      <td>2</td>\n",
       "      <td>-10.307</td>\n",
       "      <td>1</td>\n",
       "      <td>0.0614</td>\n",
       "      <td>0.4160</td>\n",
       "      <td>0.000008</td>\n",
       "      <td>0.1260</td>\n",
       "      <td>0.3760</td>\n",
       "      <td>120.044</td>\n",
       "      <td>audio_features</td>\n",
       "      <td>7gVWKBcfIW93YxNBi3ApIE</td>\n",
       "      <td>spotify:track:7gVWKBcfIW93YxNBi3ApIE</td>\n",
       "      <td>https://api.spotify.com/v1/tracks/7gVWKBcfIW93...</td>\n",
       "      <td>https://api.spotify.com/v1/audio-analysis/7gVW...</td>\n",
       "      <td>194207</td>\n",
       "      <td>4</td>\n",
       "      <td>midnights</td>\n",
       "    </tr>\n",
       "  </tbody>\n",
       "</table>\n",
       "</div>"
      ],
      "text/plain": [
       "   Unnamed: 0  danceability  energy  key  loudness  mode  speechiness  \\\n",
       "0           0         0.735   0.444   10   -10.519     1       0.0684   \n",
       "1           1         0.658   0.378    7    -8.300     1       0.0379   \n",
       "2           2         0.638   0.634    4    -6.582     1       0.0457   \n",
       "3           3         0.659   0.323    9   -13.425     1       0.0436   \n",
       "4           4         0.694   0.380    2   -10.307     1       0.0614   \n",
       "\n",
       "   acousticness  instrumentalness  liveness  valence    tempo            type  \\\n",
       "0        0.2040          0.001200    0.1700   0.0984   97.038  audio_features   \n",
       "1        0.0593          0.000000    0.0976   0.0382  108.034  audio_features   \n",
       "2        0.1330          0.000001    0.1520   0.5190   96.953  audio_features   \n",
       "3        0.7350          0.003210    0.1160   0.1540  110.007  audio_features   \n",
       "4        0.4160          0.000008    0.1260   0.3760  120.044  audio_features   \n",
       "\n",
       "                       id                                   uri  \\\n",
       "0  4g2c7NoTWAOSYDy44l9nub  spotify:track:4g2c7NoTWAOSYDy44l9nub   \n",
       "1  199E1RRrVmVTQqBXih5qRC  spotify:track:199E1RRrVmVTQqBXih5qRC   \n",
       "2  02Zkkf2zMkwRGQjZ7T4p8f  spotify:track:02Zkkf2zMkwRGQjZ7T4p8f   \n",
       "3  6ADDIJxxqzM9LMpm78yzQG  spotify:track:6ADDIJxxqzM9LMpm78yzQG   \n",
       "4  7gVWKBcfIW93YxNBi3ApIE  spotify:track:7gVWKBcfIW93YxNBi3ApIE   \n",
       "\n",
       "                                          track_href  \\\n",
       "0  https://api.spotify.com/v1/tracks/4g2c7NoTWAOS...   \n",
       "1  https://api.spotify.com/v1/tracks/199E1RRrVmVT...   \n",
       "2  https://api.spotify.com/v1/tracks/02Zkkf2zMkwR...   \n",
       "3  https://api.spotify.com/v1/tracks/6ADDIJxxqzM9...   \n",
       "4  https://api.spotify.com/v1/tracks/7gVWKBcfIW93...   \n",
       "\n",
       "                                        analysis_url  duration_ms  \\\n",
       "0  https://api.spotify.com/v1/audio-analysis/4g2c...       202396   \n",
       "1  https://api.spotify.com/v1/audio-analysis/199E...       218271   \n",
       "2  https://api.spotify.com/v1/audio-analysis/02Zk...       200690   \n",
       "3  https://api.spotify.com/v1/audio-analysis/6ADD...       256124   \n",
       "4  https://api.spotify.com/v1/audio-analysis/7gVW...       194207   \n",
       "\n",
       "   time_signature      album  \n",
       "0               4  midnights  \n",
       "1               4  midnights  \n",
       "2               4  midnights  \n",
       "3               4  midnights  \n",
       "4               4  midnights  "
      ]
     },
     "execution_count": 2,
     "metadata": {},
     "output_type": "execute_result"
    }
   ],
   "source": [
    "af = pd.read_csv('audio_features.csv')\n",
    "af.head()"
   ]
  },
  {
   "cell_type": "code",
   "execution_count": 8,
   "id": "25165c68",
   "metadata": {},
   "outputs": [],
   "source": [
    "mid_val = af[af['album'] == 'midnights']['valence']\n",
    "lon_val = af[af['album'] == 'loneliest']['valence']"
   ]
  },
  {
   "cell_type": "code",
   "execution_count": 10,
   "id": "c54c5507",
   "metadata": {},
   "outputs": [],
   "source": [
    "result1 = stats.ttest_ind(mid_val, lon_val)"
   ]
  },
  {
   "cell_type": "code",
   "execution_count": 11,
   "id": "ee29fa41",
   "metadata": {},
   "outputs": [
    {
     "data": {
      "text/plain": [
       "-4.205937943601481"
      ]
     },
     "execution_count": 11,
     "metadata": {},
     "output_type": "execute_result"
    }
   ],
   "source": [
    "result1.statistic"
   ]
  },
  {
   "cell_type": "code",
   "execution_count": 17,
   "id": "cf9957ee",
   "metadata": {},
   "outputs": [
    {
     "data": {
      "text/plain": [
       "0.00018"
      ]
     },
     "execution_count": 17,
     "metadata": {},
     "output_type": "execute_result"
    }
   ],
   "source": [
    "round(result1.pvalue, 5)"
   ]
  },
  {
   "cell_type": "code",
   "execution_count": 18,
   "id": "f7338809",
   "metadata": {},
   "outputs": [],
   "source": [
    "mid_dance = af[af['album'] == 'midnights']['danceability']\n",
    "lon_dance = af[af['album'] == 'loneliest']['danceability']"
   ]
  },
  {
   "cell_type": "code",
   "execution_count": 19,
   "id": "fcbb43b3",
   "metadata": {},
   "outputs": [],
   "source": [
    "result2 = stats.ttest_ind(mid_dance, lon_dance)"
   ]
  },
  {
   "cell_type": "code",
   "execution_count": 20,
   "id": "ccb12bfd",
   "metadata": {},
   "outputs": [
    {
     "data": {
      "text/plain": [
       "-2.1273893857382227"
      ]
     },
     "execution_count": 20,
     "metadata": {},
     "output_type": "execute_result"
    }
   ],
   "source": [
    "result2.statistic"
   ]
  },
  {
   "cell_type": "code",
   "execution_count": 21,
   "id": "d340263a",
   "metadata": {},
   "outputs": [
    {
     "data": {
      "text/plain": [
       "0.04072264959445446"
      ]
     },
     "execution_count": 21,
     "metadata": {},
     "output_type": "execute_result"
    }
   ],
   "source": [
    "result2.pvalue"
   ]
  },
  {
   "cell_type": "code",
   "execution_count": 27,
   "id": "13ab7b37",
   "metadata": {},
   "outputs": [],
   "source": [
    "modexalbum_freq = af.groupby(['album', 'mode']).count()['id']"
   ]
  },
  {
   "cell_type": "code",
   "execution_count": 35,
   "id": "0f5d1ef7",
   "metadata": {},
   "outputs": [],
   "source": [
    "result3 = stats.chisquare(modexalbum_freq)"
   ]
  },
  {
   "cell_type": "code",
   "execution_count": 30,
   "id": "760c5692",
   "metadata": {},
   "outputs": [
    {
     "data": {
      "text/plain": [
       "18.22222222222222"
      ]
     },
     "execution_count": 30,
     "metadata": {},
     "output_type": "execute_result"
    }
   ],
   "source": [
    "result3.statistic"
   ]
  },
  {
   "cell_type": "code",
   "execution_count": 32,
   "id": "0ac2de86",
   "metadata": {},
   "outputs": [
    {
     "data": {
      "text/plain": [
       "0.0003957850029937146"
      ]
     },
     "execution_count": 32,
     "metadata": {},
     "output_type": "execute_result"
    }
   ],
   "source": [
    "result3.pvalue"
   ]
  },
  {
   "cell_type": "code",
   "execution_count": 37,
   "id": "3e8edbb6",
   "metadata": {},
   "outputs": [
    {
     "data": {
      "text/plain": [
       "album      key\n",
       "loneliest  0      2\n",
       "           1      1\n",
       "           2      2\n",
       "           4      1\n",
       "           5      1\n",
       "           6      3\n",
       "           7      2\n",
       "           8      2\n",
       "           9      2\n",
       "midnights  0      4\n",
       "           2      1\n",
       "           4      3\n",
       "           5      1\n",
       "           6      1\n",
       "           7      5\n",
       "           8      1\n",
       "           9      1\n",
       "           10     2\n",
       "           11     1\n",
       "Name: id, dtype: int64"
      ]
     },
     "execution_count": 37,
     "metadata": {},
     "output_type": "execute_result"
    }
   ],
   "source": [
    "af.groupby(['album', 'key']).count()['id']"
   ]
  },
  {
   "cell_type": "code",
   "execution_count": 38,
   "id": "a3aecec2",
   "metadata": {},
   "outputs": [
    {
     "data": {
      "text/plain": [
       "Power_divergenceResult(statistic=12.555555555555557, pvalue=0.8172706096483118)"
      ]
     },
     "execution_count": 38,
     "metadata": {},
     "output_type": "execute_result"
    }
   ],
   "source": [
    "stats.chisquare(af.groupby(['album', 'key']).count()['id'])"
   ]
  }
 ],
 "metadata": {
  "kernelspec": {
   "display_name": "Python 3 (ipykernel)",
   "language": "python",
   "name": "python3"
  },
  "language_info": {
   "codemirror_mode": {
    "name": "ipython",
    "version": 3
   },
   "file_extension": ".py",
   "mimetype": "text/x-python",
   "name": "python",
   "nbconvert_exporter": "python",
   "pygments_lexer": "ipython3",
   "version": "3.11.4"
  }
 },
 "nbformat": 4,
 "nbformat_minor": 5
}
