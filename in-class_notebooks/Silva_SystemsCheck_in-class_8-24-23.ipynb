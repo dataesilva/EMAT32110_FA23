{
 "cells": [
  {
   "cell_type": "markdown",
   "id": "15cc0807",
   "metadata": {},
   "source": [
    "## This is a Markdown cell.\n",
    "\n",
    "Use this cell to _describe your code_, _discuss your data_, and _share your thoughts about the analysis_.\n",
    "\n",
    "1. Start all notebooks with a Markdown cell\n",
    "2. Use Markdown cells instead of (or at least in addition to) comments in your code\n",
    "3. In general, more is better, especially when still working through an analysis\n",
    "\n",
    "Use the \\` symbol to write code to display and that will not be executed in a Markdown cell\n",
    "Or open and close the code section with triple prime symbols (\\`\\`\\`)\n",
    "Example - single code line in Markdown:\n",
    "`x = 7`\n",
    "Example - multi-line code block in Markdown:\n",
    "```\n",
    "y = ['do', 'your', 'readings']\n",
    "for i in y:\n",
    "    print(x)\n",
    "```"
   ]
  },
  {
   "cell_type": "markdown",
   "id": "a807b547",
   "metadata": {},
   "source": [
    "#### Order of execution matters\n",
    "\n",
    "Last session, I may have assigned a value to the variable `x`, but on a new session, `x`'s value is not saved."
   ]
  },
  {
   "cell_type": "code",
   "execution_count": 1,
   "id": "983618e8",
   "metadata": {},
   "outputs": [
    {
     "ename": "NameError",
     "evalue": "name 'x' is not defined",
     "output_type": "error",
     "traceback": [
      "\u001b[1;31m---------------------------------------------------------------------------\u001b[0m",
      "\u001b[1;31mNameError\u001b[0m                                 Traceback (most recent call last)",
      "Cell \u001b[1;32mIn[1], line 1\u001b[0m\n\u001b[1;32m----> 1\u001b[0m x\n",
      "\u001b[1;31mNameError\u001b[0m: name 'x' is not defined"
     ]
    }
   ],
   "source": [
    "x"
   ]
  },
  {
   "cell_type": "code",
   "execution_count": 2,
   "id": "02bb5fa5",
   "metadata": {},
   "outputs": [
    {
     "data": {
      "text/plain": [
       "7"
      ]
     },
     "execution_count": 2,
     "metadata": {},
     "output_type": "execute_result"
    }
   ],
   "source": [
    "x = 7\n",
    "x"
   ]
  }
 ],
 "metadata": {
  "kernelspec": {
   "display_name": "Python 3 (ipykernel)",
   "language": "python",
   "name": "python3"
  },
  "language_info": {
   "codemirror_mode": {
    "name": "ipython",
    "version": 3
   },
   "file_extension": ".py",
   "mimetype": "text/x-python",
   "name": "python",
   "nbconvert_exporter": "python",
   "pygments_lexer": "ipython3",
   "version": "3.11.4"
  }
 },
 "nbformat": 4,
 "nbformat_minor": 5
}
