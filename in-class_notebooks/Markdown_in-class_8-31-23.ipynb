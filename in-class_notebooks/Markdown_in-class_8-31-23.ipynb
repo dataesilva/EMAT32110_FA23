{
 "cells": [
  {
   "cell_type": "markdown",
   "id": "cd785ead",
   "metadata": {},
   "source": [
    "##### Including an image in a Markdown cell\n",
    "\n",
    "![street triple r](https://upload.wikimedia.org/wikipedia/commons/thumb/4/49/2014_Triumph_Street_Triple_R_matte_graphite_right_2.JPG/1920px-2014_Triumph_Street_Triple_R_matte_graphite_right_2.JPG)\n",
    "\n",
    "_this is a bike_\n",
    "\n",
    "__I like bikes__\n",
    "\n",
    "```\n",
    "x = [1]\n",
    "pd.DataFrame(x)\n",
    "```"
   ]
  }
 ],
 "metadata": {
  "kernelspec": {
   "display_name": "Python 3 (ipykernel)",
   "language": "python",
   "name": "python3"
  },
  "language_info": {
   "codemirror_mode": {
    "name": "ipython",
    "version": 3
   },
   "file_extension": ".py",
   "mimetype": "text/x-python",
   "name": "python",
   "nbconvert_exporter": "python",
   "pygments_lexer": "ipython3",
   "version": "3.11.4"
  }
 },
 "nbformat": 4,
 "nbformat_minor": 5
}
