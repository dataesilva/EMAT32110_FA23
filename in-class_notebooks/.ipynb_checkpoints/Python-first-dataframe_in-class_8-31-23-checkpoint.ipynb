{
 "cells": [
  {
   "cell_type": "markdown",
   "id": "db891d33",
   "metadata": {},
   "source": [
    "Lists in Python"
   ]
  },
  {
   "cell_type": "code",
   "execution_count": 1,
   "id": "29b8f778",
   "metadata": {},
   "outputs": [
    {
     "data": {
      "text/plain": [
       "3"
      ]
     },
     "execution_count": 1,
     "metadata": {},
     "output_type": "execute_result"
    }
   ],
   "source": [
    "x = [2, 3]\n",
    "x[1]"
   ]
  },
  {
   "cell_type": "markdown",
   "id": "8405fda8",
   "metadata": {},
   "source": [
    "Dictionaries in Python"
   ]
  },
  {
   "cell_type": "code",
   "execution_count": 40,
   "id": "bac200e2",
   "metadata": {},
   "outputs": [
    {
     "data": {
      "text/plain": [
       "{'a': [3, 4, 5], 'b': [4, 6, 7]}"
      ]
     },
     "execution_count": 40,
     "metadata": {},
     "output_type": "execute_result"
    }
   ],
   "source": [
    "y = {'a': [3, 4, 5],\n",
    "    'b': [4, 6, 7]}\n",
    "y"
   ]
  },
  {
   "cell_type": "markdown",
   "id": "d456aa0d",
   "metadata": {},
   "source": [
    "Strings in Python (or JSONs)"
   ]
  },
  {
   "cell_type": "code",
   "execution_count": 3,
   "id": "8c834975",
   "metadata": {},
   "outputs": [
    {
     "data": {
      "text/plain": [
       "\"{'a': 3, 'b': 4}\""
      ]
     },
     "execution_count": 3,
     "metadata": {},
     "output_type": "execute_result"
    }
   ],
   "source": [
    "k = \"{'a': 3, 'b': 4}\"\n",
    "k"
   ]
  },
  {
   "cell_type": "markdown",
   "id": "9332c660",
   "metadata": {},
   "source": [
    "Loops and Functions"
   ]
  },
  {
   "cell_type": "code",
   "execution_count": 36,
   "id": "6e0bb095",
   "metadata": {},
   "outputs": [
    {
     "name": "stdout",
     "output_type": "stream",
     "text": [
      "2\n",
      "a\n",
      "b\n",
      "3\n",
      "a\n",
      "b\n"
     ]
    }
   ],
   "source": [
    "for i in x:\n",
    "    print(i)\n",
    "    # looping over y\n",
    "    for j in y:\n",
    "        print(j)\n",
    "        \n",
    "def greeting(x):\n",
    "    print(\"hi \" + str(x))\n",
    "    \n",
    "    \n",
    "    print(\"names\")\n",
    "    return 'hi ' + x"
   ]
  },
  {
   "cell_type": "code",
   "execution_count": 37,
   "id": "4ceec86d",
   "metadata": {},
   "outputs": [
    {
     "name": "stdout",
     "output_type": "stream",
     "text": [
      "hi David\n",
      "names\n"
     ]
    }
   ],
   "source": [
    "user_name = greeting('David')"
   ]
  },
  {
   "cell_type": "code",
   "execution_count": 38,
   "id": "4fb84d16",
   "metadata": {},
   "outputs": [
    {
     "data": {
      "text/plain": [
       "'hi David'"
      ]
     },
     "execution_count": 38,
     "metadata": {},
     "output_type": "execute_result"
    }
   ],
   "source": [
    "user_name"
   ]
  },
  {
   "cell_type": "markdown",
   "id": "3502515e",
   "metadata": {},
   "source": [
    "Making a DataFrame."
   ]
  },
  {
   "cell_type": "code",
   "execution_count": 41,
   "id": "3d2ca6b0",
   "metadata": {},
   "outputs": [],
   "source": [
    "import pandas as pd"
   ]
  },
  {
   "cell_type": "markdown",
   "id": "0cdfdef2",
   "metadata": {},
   "source": [
    "This does not work because matplotlib has not been installed yet"
   ]
  },
  {
   "cell_type": "code",
   "execution_count": 42,
   "id": "be33488c",
   "metadata": {},
   "outputs": [
    {
     "ename": "ModuleNotFoundError",
     "evalue": "No module named 'matplotlib'",
     "output_type": "error",
     "traceback": [
      "\u001b[1;31m---------------------------------------------------------------------------\u001b[0m",
      "\u001b[1;31mModuleNotFoundError\u001b[0m                       Traceback (most recent call last)",
      "Cell \u001b[1;32mIn[42], line 1\u001b[0m\n\u001b[1;32m----> 1\u001b[0m \u001b[38;5;28;01mimport\u001b[39;00m \u001b[38;5;21;01mmatplotlib\u001b[39;00m\n",
      "\u001b[1;31mModuleNotFoundError\u001b[0m: No module named 'matplotlib'"
     ]
    }
   ],
   "source": [
    "import matplotlib"
   ]
  },
  {
   "cell_type": "code",
   "execution_count": 43,
   "id": "1c120abe",
   "metadata": {},
   "outputs": [
    {
     "data": {
      "text/html": [
       "<div>\n",
       "<style scoped>\n",
       "    .dataframe tbody tr th:only-of-type {\n",
       "        vertical-align: middle;\n",
       "    }\n",
       "\n",
       "    .dataframe tbody tr th {\n",
       "        vertical-align: top;\n",
       "    }\n",
       "\n",
       "    .dataframe thead th {\n",
       "        text-align: right;\n",
       "    }\n",
       "</style>\n",
       "<table border=\"1\" class=\"dataframe\">\n",
       "  <thead>\n",
       "    <tr style=\"text-align: right;\">\n",
       "      <th></th>\n",
       "      <th>a</th>\n",
       "      <th>b</th>\n",
       "    </tr>\n",
       "  </thead>\n",
       "  <tbody>\n",
       "    <tr>\n",
       "      <th>0</th>\n",
       "      <td>3</td>\n",
       "      <td>4</td>\n",
       "    </tr>\n",
       "    <tr>\n",
       "      <th>1</th>\n",
       "      <td>4</td>\n",
       "      <td>6</td>\n",
       "    </tr>\n",
       "    <tr>\n",
       "      <th>2</th>\n",
       "      <td>5</td>\n",
       "      <td>7</td>\n",
       "    </tr>\n",
       "  </tbody>\n",
       "</table>\n",
       "</div>"
      ],
      "text/plain": [
       "   a  b\n",
       "0  3  4\n",
       "1  4  6\n",
       "2  5  7"
      ]
     },
     "execution_count": 43,
     "metadata": {},
     "output_type": "execute_result"
    }
   ],
   "source": [
    "pd.DataFrame(y)"
   ]
  },
  {
   "cell_type": "code",
   "execution_count": 44,
   "id": "a64baf77",
   "metadata": {},
   "outputs": [],
   "source": [
    "my_first_df = pd.DataFrame(y)"
   ]
  },
  {
   "cell_type": "code",
   "execution_count": 46,
   "id": "3c60fce5",
   "metadata": {},
   "outputs": [],
   "source": [
    "my_first_df.to_csv('first_df.csv', encoding = 'utf-8')"
   ]
  }
 ],
 "metadata": {
  "kernelspec": {
   "display_name": "Python 3 (ipykernel)",
   "language": "python",
   "name": "python3"
  },
  "language_info": {
   "codemirror_mode": {
    "name": "ipython",
    "version": 3
   },
   "file_extension": ".py",
   "mimetype": "text/x-python",
   "name": "python",
   "nbconvert_exporter": "python",
   "pygments_lexer": "ipython3",
   "version": "3.11.4"
  }
 },
 "nbformat": 4,
 "nbformat_minor": 5
}
