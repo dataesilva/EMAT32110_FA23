{
 "cells": [
  {
   "cell_type": "markdown",
   "id": "6343a870",
   "metadata": {},
   "source": [
    "### Demo in class Sept 7, 2023"
   ]
  },
  {
   "cell_type": "code",
   "execution_count": 1,
   "id": "740197a9",
   "metadata": {},
   "outputs": [],
   "source": [
    "import pandas as pd\n",
    "import json"
   ]
  },
  {
   "cell_type": "code",
   "execution_count": 2,
   "id": "6bd5995a",
   "metadata": {},
   "outputs": [],
   "source": [
    "with open(r\"C:\\Users\\dsilva2\\facebook-davidsilva100046_FA23\\messages\\inbox\\chessbuds_3243775372391981\\message_1.json\") as cm:\n",
    "    chess_mess = json.load(cm)"
   ]
  },
  {
   "cell_type": "code",
   "execution_count": 3,
   "id": "ee408f01",
   "metadata": {},
   "outputs": [
    {
     "data": {
      "text/plain": [
       "'Scott Pence'"
      ]
     },
     "execution_count": 3,
     "metadata": {},
     "output_type": "execute_result"
    }
   ],
   "source": [
    "chess_mess['participants'][0]['name']"
   ]
  },
  {
   "cell_type": "code",
   "execution_count": 4,
   "id": "91b8f6de",
   "metadata": {},
   "outputs": [
    {
     "data": {
      "text/plain": [
       "[{'name': 'Scott Pence'},\n",
       " {'name': 'Chad Larson'},\n",
       " {'name': 'Joanna Rusch'},\n",
       " {'name': 'Angela Babbitt Pence'},\n",
       " {'name': 'David Silva'},\n",
       " {'name': 'Aaron Rusch'},\n",
       " {'name': 'Timothy Vanderpool'}]"
      ]
     },
     "execution_count": 4,
     "metadata": {},
     "output_type": "execute_result"
    }
   ],
   "source": [
    "chess_mess['participants']"
   ]
  },
  {
   "cell_type": "code",
   "execution_count": 5,
   "id": "11e96e63",
   "metadata": {},
   "outputs": [],
   "source": [
    "chess_parts = pd.DataFrame(chess_mess['participants'])"
   ]
  },
  {
   "cell_type": "code",
   "execution_count": 6,
   "id": "f546e5d9",
   "metadata": {},
   "outputs": [
    {
     "data": {
      "text/html": [
       "<div>\n",
       "<style scoped>\n",
       "    .dataframe tbody tr th:only-of-type {\n",
       "        vertical-align: middle;\n",
       "    }\n",
       "\n",
       "    .dataframe tbody tr th {\n",
       "        vertical-align: top;\n",
       "    }\n",
       "\n",
       "    .dataframe thead th {\n",
       "        text-align: right;\n",
       "    }\n",
       "</style>\n",
       "<table border=\"1\" class=\"dataframe\">\n",
       "  <thead>\n",
       "    <tr style=\"text-align: right;\">\n",
       "      <th></th>\n",
       "      <th>name</th>\n",
       "    </tr>\n",
       "  </thead>\n",
       "  <tbody>\n",
       "    <tr>\n",
       "      <th>0</th>\n",
       "      <td>Scott Pence</td>\n",
       "    </tr>\n",
       "    <tr>\n",
       "      <th>1</th>\n",
       "      <td>Chad Larson</td>\n",
       "    </tr>\n",
       "    <tr>\n",
       "      <th>2</th>\n",
       "      <td>Joanna Rusch</td>\n",
       "    </tr>\n",
       "    <tr>\n",
       "      <th>3</th>\n",
       "      <td>Angela Babbitt Pence</td>\n",
       "    </tr>\n",
       "    <tr>\n",
       "      <th>4</th>\n",
       "      <td>David Silva</td>\n",
       "    </tr>\n",
       "    <tr>\n",
       "      <th>5</th>\n",
       "      <td>Aaron Rusch</td>\n",
       "    </tr>\n",
       "    <tr>\n",
       "      <th>6</th>\n",
       "      <td>Timothy Vanderpool</td>\n",
       "    </tr>\n",
       "  </tbody>\n",
       "</table>\n",
       "</div>"
      ],
      "text/plain": [
       "                   name\n",
       "0           Scott Pence\n",
       "1           Chad Larson\n",
       "2          Joanna Rusch\n",
       "3  Angela Babbitt Pence\n",
       "4           David Silva\n",
       "5           Aaron Rusch\n",
       "6    Timothy Vanderpool"
      ]
     },
     "execution_count": 6,
     "metadata": {},
     "output_type": "execute_result"
    }
   ],
   "source": [
    "chess_parts"
   ]
  },
  {
   "cell_type": "code",
   "execution_count": 7,
   "id": "8aef85d7",
   "metadata": {},
   "outputs": [
    {
     "data": {
      "text/plain": [
       "dict_keys(['participants', 'messages', 'title', 'is_still_participant', 'thread_path', 'magic_words', 'joinable_mode'])"
      ]
     },
     "execution_count": 7,
     "metadata": {},
     "output_type": "execute_result"
    }
   ],
   "source": [
    "chess_mess.keys()"
   ]
  },
  {
   "cell_type": "code",
   "execution_count": 8,
   "id": "b7457906",
   "metadata": {},
   "outputs": [
    {
     "data": {
      "text/plain": [
       "[]"
      ]
     },
     "execution_count": 8,
     "metadata": {},
     "output_type": "execute_result"
    }
   ],
   "source": [
    "chess_mess['magic_words']"
   ]
  },
  {
   "cell_type": "code",
   "execution_count": 9,
   "id": "3f7f9da4",
   "metadata": {},
   "outputs": [
    {
     "data": {
      "text/plain": [
       "1692288525908"
      ]
     },
     "execution_count": 9,
     "metadata": {},
     "output_type": "execute_result"
    }
   ],
   "source": [
    "chess_mess['messages'][0]['timestamp_ms']"
   ]
  },
  {
   "cell_type": "code",
   "execution_count": 10,
   "id": "4f7bb8b7",
   "metadata": {},
   "outputs": [
    {
     "data": {
      "text/plain": [
       "94"
      ]
     },
     "execution_count": 10,
     "metadata": {},
     "output_type": "execute_result"
    }
   ],
   "source": [
    "len(chess_mess['messages'])"
   ]
  },
  {
   "cell_type": "code",
   "execution_count": 11,
   "id": "5d3945c2",
   "metadata": {},
   "outputs": [],
   "source": [
    "chess_messages = pd.DataFrame(chess_mess['messages'])"
   ]
  },
  {
   "cell_type": "code",
   "execution_count": 12,
   "id": "ea215fd0",
   "metadata": {},
   "outputs": [
    {
     "data": {
      "text/html": [
       "<div>\n",
       "<style scoped>\n",
       "    .dataframe tbody tr th:only-of-type {\n",
       "        vertical-align: middle;\n",
       "    }\n",
       "\n",
       "    .dataframe tbody tr th {\n",
       "        vertical-align: top;\n",
       "    }\n",
       "\n",
       "    .dataframe thead th {\n",
       "        text-align: right;\n",
       "    }\n",
       "</style>\n",
       "<table border=\"1\" class=\"dataframe\">\n",
       "  <thead>\n",
       "    <tr style=\"text-align: right;\">\n",
       "      <th></th>\n",
       "      <th>sender_name</th>\n",
       "      <th>timestamp_ms</th>\n",
       "      <th>gifs</th>\n",
       "      <th>reactions</th>\n",
       "      <th>content</th>\n",
       "      <th>share</th>\n",
       "      <th>photos</th>\n",
       "    </tr>\n",
       "  </thead>\n",
       "  <tbody>\n",
       "    <tr>\n",
       "      <th>89</th>\n",
       "      <td>Scott Pence</td>\n",
       "      <td>1662489732856</td>\n",
       "      <td>NaN</td>\n",
       "      <td>NaN</td>\n",
       "      <td>Means rookB1</td>\n",
       "      <td>NaN</td>\n",
       "      <td>NaN</td>\n",
       "    </tr>\n",
       "    <tr>\n",
       "      <th>90</th>\n",
       "      <td>Scott Pence</td>\n",
       "      <td>1662489718995</td>\n",
       "      <td>[{'uri': 'messages/inbox/chessbuds_32437753723...</td>\n",
       "      <td>NaN</td>\n",
       "      <td>NaN</td>\n",
       "      <td>NaN</td>\n",
       "      <td>NaN</td>\n",
       "    </tr>\n",
       "    <tr>\n",
       "      <th>91</th>\n",
       "      <td>Joanna Rusch</td>\n",
       "      <td>1662489529941</td>\n",
       "      <td>NaN</td>\n",
       "      <td>NaN</td>\n",
       "      <td>I guess I'm not sure how one would cheat in OT...</td>\n",
       "      <td>NaN</td>\n",
       "      <td>NaN</td>\n",
       "    </tr>\n",
       "    <tr>\n",
       "      <th>92</th>\n",
       "      <td>Chad Larson</td>\n",
       "      <td>1662480499917</td>\n",
       "      <td>NaN</td>\n",
       "      <td>NaN</td>\n",
       "      <td>That was super strange.  The whole cheating al...</td>\n",
       "      <td>NaN</td>\n",
       "      <td>NaN</td>\n",
       "    </tr>\n",
       "    <tr>\n",
       "      <th>93</th>\n",
       "      <td>Scott Pence</td>\n",
       "      <td>1662434412006</td>\n",
       "      <td>NaN</td>\n",
       "      <td>NaN</td>\n",
       "      <td>Has anyone else heard about Magnus dropping ou...</td>\n",
       "      <td>NaN</td>\n",
       "      <td>NaN</td>\n",
       "    </tr>\n",
       "  </tbody>\n",
       "</table>\n",
       "</div>"
      ],
      "text/plain": [
       "     sender_name   timestamp_ms  \\\n",
       "89   Scott Pence  1662489732856   \n",
       "90   Scott Pence  1662489718995   \n",
       "91  Joanna Rusch  1662489529941   \n",
       "92   Chad Larson  1662480499917   \n",
       "93   Scott Pence  1662434412006   \n",
       "\n",
       "                                                 gifs reactions  \\\n",
       "89                                                NaN       NaN   \n",
       "90  [{'uri': 'messages/inbox/chessbuds_32437753723...       NaN   \n",
       "91                                                NaN       NaN   \n",
       "92                                                NaN       NaN   \n",
       "93                                                NaN       NaN   \n",
       "\n",
       "                                              content share photos  \n",
       "89                                       Means rookB1   NaN    NaN  \n",
       "90                                                NaN   NaN    NaN  \n",
       "91  I guess I'm not sure how one would cheat in OT...   NaN    NaN  \n",
       "92  That was super strange.  The whole cheating al...   NaN    NaN  \n",
       "93  Has anyone else heard about Magnus dropping ou...   NaN    NaN  "
      ]
     },
     "execution_count": 12,
     "metadata": {},
     "output_type": "execute_result"
    }
   ],
   "source": [
    "chess_messages.tail()"
   ]
  },
  {
   "cell_type": "code",
   "execution_count": 13,
   "id": "0e6a5fe5",
   "metadata": {},
   "outputs": [
    {
     "data": {
      "text/html": [
       "<div>\n",
       "<style scoped>\n",
       "    .dataframe tbody tr th:only-of-type {\n",
       "        vertical-align: middle;\n",
       "    }\n",
       "\n",
       "    .dataframe tbody tr th {\n",
       "        vertical-align: top;\n",
       "    }\n",
       "\n",
       "    .dataframe thead th {\n",
       "        text-align: right;\n",
       "    }\n",
       "</style>\n",
       "<table border=\"1\" class=\"dataframe\">\n",
       "  <thead>\n",
       "    <tr style=\"text-align: right;\">\n",
       "      <th></th>\n",
       "      <th>timestamp_ms</th>\n",
       "      <th>gifs</th>\n",
       "      <th>reactions</th>\n",
       "      <th>content</th>\n",
       "      <th>share</th>\n",
       "      <th>photos</th>\n",
       "    </tr>\n",
       "    <tr>\n",
       "      <th>sender_name</th>\n",
       "      <th></th>\n",
       "      <th></th>\n",
       "      <th></th>\n",
       "      <th></th>\n",
       "      <th></th>\n",
       "      <th></th>\n",
       "    </tr>\n",
       "  </thead>\n",
       "  <tbody>\n",
       "    <tr>\n",
       "      <th>Angela Babbitt Pence</th>\n",
       "      <td>2</td>\n",
       "      <td>0</td>\n",
       "      <td>2</td>\n",
       "      <td>2</td>\n",
       "      <td>0</td>\n",
       "      <td>0</td>\n",
       "    </tr>\n",
       "    <tr>\n",
       "      <th>Chad Larson</th>\n",
       "      <td>17</td>\n",
       "      <td>0</td>\n",
       "      <td>6</td>\n",
       "      <td>17</td>\n",
       "      <td>3</td>\n",
       "      <td>0</td>\n",
       "    </tr>\n",
       "    <tr>\n",
       "      <th>David Silva</th>\n",
       "      <td>4</td>\n",
       "      <td>0</td>\n",
       "      <td>2</td>\n",
       "      <td>4</td>\n",
       "      <td>1</td>\n",
       "      <td>0</td>\n",
       "    </tr>\n",
       "    <tr>\n",
       "      <th>Joanna Rusch</th>\n",
       "      <td>20</td>\n",
       "      <td>2</td>\n",
       "      <td>7</td>\n",
       "      <td>17</td>\n",
       "      <td>2</td>\n",
       "      <td>1</td>\n",
       "    </tr>\n",
       "    <tr>\n",
       "      <th>Scott Pence</th>\n",
       "      <td>51</td>\n",
       "      <td>2</td>\n",
       "      <td>12</td>\n",
       "      <td>38</td>\n",
       "      <td>9</td>\n",
       "      <td>11</td>\n",
       "    </tr>\n",
       "  </tbody>\n",
       "</table>\n",
       "</div>"
      ],
      "text/plain": [
       "                      timestamp_ms  gifs  reactions  content  share  photos\n",
       "sender_name                                                                \n",
       "Angela Babbitt Pence             2     0          2        2      0       0\n",
       "Chad Larson                     17     0          6       17      3       0\n",
       "David Silva                      4     0          2        4      1       0\n",
       "Joanna Rusch                    20     2          7       17      2       1\n",
       "Scott Pence                     51     2         12       38      9      11"
      ]
     },
     "execution_count": 13,
     "metadata": {},
     "output_type": "execute_result"
    }
   ],
   "source": [
    "chess_messages.groupby('sender_name').count()"
   ]
  },
  {
   "cell_type": "code",
   "execution_count": 14,
   "id": "bf915538",
   "metadata": {},
   "outputs": [
    {
     "data": {
      "text/html": [
       "<div>\n",
       "<style scoped>\n",
       "    .dataframe tbody tr th:only-of-type {\n",
       "        vertical-align: middle;\n",
       "    }\n",
       "\n",
       "    .dataframe tbody tr th {\n",
       "        vertical-align: top;\n",
       "    }\n",
       "\n",
       "    .dataframe thead th {\n",
       "        text-align: right;\n",
       "    }\n",
       "</style>\n",
       "<table border=\"1\" class=\"dataframe\">\n",
       "  <thead>\n",
       "    <tr style=\"text-align: right;\">\n",
       "      <th></th>\n",
       "      <th>timestamp_ms</th>\n",
       "      <th>gifs</th>\n",
       "      <th>reactions</th>\n",
       "      <th>content</th>\n",
       "      <th>share</th>\n",
       "      <th>photos</th>\n",
       "    </tr>\n",
       "    <tr>\n",
       "      <th>sender_name</th>\n",
       "      <th></th>\n",
       "      <th></th>\n",
       "      <th></th>\n",
       "      <th></th>\n",
       "      <th></th>\n",
       "      <th></th>\n",
       "    </tr>\n",
       "  </thead>\n",
       "  <tbody>\n",
       "    <tr>\n",
       "      <th>Angela Babbitt Pence</th>\n",
       "      <td>2</td>\n",
       "      <td>0</td>\n",
       "      <td>2</td>\n",
       "      <td>2</td>\n",
       "      <td>0</td>\n",
       "      <td>0</td>\n",
       "    </tr>\n",
       "    <tr>\n",
       "      <th>Chad Larson</th>\n",
       "      <td>17</td>\n",
       "      <td>0</td>\n",
       "      <td>6</td>\n",
       "      <td>17</td>\n",
       "      <td>3</td>\n",
       "      <td>0</td>\n",
       "    </tr>\n",
       "  </tbody>\n",
       "</table>\n",
       "</div>"
      ],
      "text/plain": [
       "                      timestamp_ms  gifs  reactions  content  share  photos\n",
       "sender_name                                                                \n",
       "Angela Babbitt Pence             2     0          2        2      0       0\n",
       "Chad Larson                     17     0          6       17      3       0"
      ]
     },
     "execution_count": 14,
     "metadata": {},
     "output_type": "execute_result"
    }
   ],
   "source": [
    "chess_messages.sort_values('timestamp_ms', ascending = False).groupby('sender_name').count().head(2)"
   ]
  },
  {
   "cell_type": "code",
   "execution_count": 15,
   "id": "1a6e94be",
   "metadata": {},
   "outputs": [
    {
     "data": {
      "text/plain": [
       "15                                                  NaN\n",
       "16                                                  NaN\n",
       "17                                                  NaN\n",
       "18    [{'reaction': 'ð', 'actor': 'Chad Larson'},...\n",
       "19                                                  NaN\n",
       "Name: reactions, dtype: object"
      ]
     },
     "execution_count": 15,
     "metadata": {},
     "output_type": "execute_result"
    }
   ],
   "source": [
    "chess_messages['reactions'].iloc[15:20]"
   ]
  },
  {
   "cell_type": "code",
   "execution_count": 16,
   "id": "771a8cf8",
   "metadata": {},
   "outputs": [
    {
     "data": {
      "text/plain": [
       "[4, 5, 6, 7, 8, 9, 10]"
      ]
     },
     "execution_count": 16,
     "metadata": {},
     "output_type": "execute_result"
    }
   ],
   "source": [
    "a_list = [2, 3, 4, 5, 6, 7, 8]\n",
    "new_list = [2 + y for y in a_list]\n",
    "new_list"
   ]
  },
  {
   "cell_type": "code",
   "execution_count": 17,
   "id": "301cd038",
   "metadata": {},
   "outputs": [
    {
     "data": {
      "text/plain": [
       "['ott', 'gel', 'ann', 'ann', 'ott', 'ad ', 'ad ', 'ott', 'vid', 'gel']"
      ]
     },
     "execution_count": 17,
     "metadata": {},
     "output_type": "execute_result"
    }
   ],
   "source": [
    "senders = [x['sender_name'][2:5] for x in chess_mess['messages']]\n",
    "senders[0:10]"
   ]
  },
  {
   "cell_type": "code",
   "execution_count": 19,
   "id": "fd47bee1",
   "metadata": {},
   "outputs": [
    {
     "data": {
      "text/plain": [
       "['ott', 'gel', 'ann', 'ann', 'ott', 'ad ', 'ad ', 'ott', 'vid', 'gel']"
      ]
     },
     "execution_count": 19,
     "metadata": {},
     "output_type": "execute_result"
    }
   ],
   "source": [
    "senders = []\n",
    "for i in chess_mess['messages']:\n",
    "    senders.append(i['sender_name'][2:5])\n",
    "\n",
    "senders[0:10]"
   ]
  },
  {
   "cell_type": "code",
   "execution_count": 20,
   "id": "e143ad84",
   "metadata": {},
   "outputs": [],
   "source": [
    "from matplotlib import pyplot as plt"
   ]
  },
  {
   "cell_type": "code",
   "execution_count": 25,
   "id": "f147c08b",
   "metadata": {},
   "outputs": [
    {
     "data": {
      "image/png": "[encoded data removed]",
      "text/plain": [
       "<Figure size 640x480 with 1 Axes>"
      ]
     },
     "metadata": {},
     "output_type": "display_data"
    }
   ],
   "source": [
    "chess_messages.groupby('sender_name').count()[['content','reactions']].plot(kind = 'bar')\n",
    "plt.show()"
   ]
  }
 ],
 "metadata": {
  "kernelspec": {
   "display_name": "Python 3 (ipykernel)",
   "language": "python",
   "name": "python3"
  },
  "language_info": {
   "codemirror_mode": {
    "name": "ipython",
    "version": 3
   },
   "file_extension": ".py",
   "mimetype": "text/x-python",
   "name": "python",
   "nbconvert_exporter": "python",
   "pygments_lexer": "ipython3",
   "version": "3.11.4"
  }
 },
 "nbformat": 4,
 "nbformat_minor": 5
}
