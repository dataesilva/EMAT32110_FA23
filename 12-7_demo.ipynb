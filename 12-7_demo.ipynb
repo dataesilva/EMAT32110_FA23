{
 "cells": [
  {
   "cell_type": "code",
   "execution_count": 1,
   "id": "a0a0549c",
   "metadata": {},
   "outputs": [],
   "source": [
    "import pandas as pd\n",
    "import nltk\n",
    "from nltk import tokenize as tk\n",
    "from nltk import FreqDist\n",
    "from nltk.corpus import stopwords\n",
    "from matplotlib import pyplot as plt\n",
    "import string\n",
    "from collections import Counter\n",
    "# use pip install vaderSentiment\n",
    "from vaderSentiment.vaderSentiment import SentimentIntensityAnalyzer"
   ]
  },
  {
   "cell_type": "code",
   "execution_count": 2,
   "id": "70ac9b7b",
   "metadata": {},
   "outputs": [],
   "source": [
    "# Run once\n",
    "# nltk.download('punkt')\n",
    "# nltk.download('stopwords')"
   ]
  },
  {
   "cell_type": "code",
   "execution_count": 3,
   "id": "40e27db0",
   "metadata": {},
   "outputs": [
    {
     "data": {
      "text/plain": [
       "Index(['Date', 'Title', 'Url', 'Language', 'Author', 'Avatar',\n",
       "       'Category Details', 'Checked', 'City', 'Display URLs', 'Expanded URLs',\n",
       "       'Full Name', 'Full Text', 'Gender', 'Hashtags', 'Impact', 'Impressions',\n",
       "       'Latitude', 'Location Name', 'Longitude', 'Media Filter', 'Media URLs',\n",
       "       'Mentioned Authors', 'Original Url', 'Thread Author',\n",
       "       'Thread Created Date', 'Thread Entry Type', 'Thread Id', 'Thread URL',\n",
       "       'Twitter Author ID', 'Twitter Channel Role', 'Twitter Followers',\n",
       "       'Twitter Following', 'Twitter Reply Count', 'Twitter Reply to',\n",
       "       'Twitter Retweet of', 'Twitter Retweets', 'Twitter Tweets',\n",
       "       'Twitter Verified', 'Updated', 'Reach (new)'],\n",
       "      dtype='object')"
      ]
     },
     "execution_count": 3,
     "metadata": {},
     "output_type": "execute_result"
    }
   ],
   "source": [
    "oly = pd.read_csv('olympics_twitter.csv', encoding = 'utf-8')\n",
    "oly.columns"
   ]
  },
  {
   "cell_type": "code",
   "execution_count": 4,
   "id": "35594027",
   "metadata": {},
   "outputs": [
    {
     "data": {
      "text/html": [
       "<div>\n",
       "<style scoped>\n",
       "    .dataframe tbody tr th:only-of-type {\n",
       "        vertical-align: middle;\n",
       "    }\n",
       "\n",
       "    .dataframe tbody tr th {\n",
       "        vertical-align: top;\n",
       "    }\n",
       "\n",
       "    .dataframe thead th {\n",
       "        text-align: right;\n",
       "    }\n",
       "</style>\n",
       "<table border=\"1\" class=\"dataframe\">\n",
       "  <thead>\n",
       "    <tr style=\"text-align: right;\">\n",
       "      <th></th>\n",
       "      <th>Author</th>\n",
       "    </tr>\n",
       "    <tr>\n",
       "      <th>Language</th>\n",
       "      <th></th>\n",
       "    </tr>\n",
       "  </thead>\n",
       "  <tbody>\n",
       "    <tr>\n",
       "      <th>ar</th>\n",
       "      <td>2</td>\n",
       "    </tr>\n",
       "    <tr>\n",
       "      <th>cs</th>\n",
       "      <td>1</td>\n",
       "    </tr>\n",
       "    <tr>\n",
       "      <th>cy</th>\n",
       "      <td>1</td>\n",
       "    </tr>\n",
       "    <tr>\n",
       "      <th>de</th>\n",
       "      <td>27</td>\n",
       "    </tr>\n",
       "    <tr>\n",
       "      <th>en</th>\n",
       "      <td>143</td>\n",
       "    </tr>\n",
       "    <tr>\n",
       "      <th>es</th>\n",
       "      <td>16</td>\n",
       "    </tr>\n",
       "    <tr>\n",
       "      <th>id</th>\n",
       "      <td>1</td>\n",
       "    </tr>\n",
       "    <tr>\n",
       "      <th>it</th>\n",
       "      <td>2</td>\n",
       "    </tr>\n",
       "    <tr>\n",
       "      <th>ja</th>\n",
       "      <td>1</td>\n",
       "    </tr>\n",
       "    <tr>\n",
       "      <th>nl</th>\n",
       "      <td>1</td>\n",
       "    </tr>\n",
       "    <tr>\n",
       "      <th>pt</th>\n",
       "      <td>3</td>\n",
       "    </tr>\n",
       "    <tr>\n",
       "      <th>ro</th>\n",
       "      <td>1</td>\n",
       "    </tr>\n",
       "    <tr>\n",
       "      <th>sv</th>\n",
       "      <td>1</td>\n",
       "    </tr>\n",
       "  </tbody>\n",
       "</table>\n",
       "</div>"
      ],
      "text/plain": [
       "          Author\n",
       "Language        \n",
       "ar             2\n",
       "cs             1\n",
       "cy             1\n",
       "de            27\n",
       "en           143\n",
       "es            16\n",
       "id             1\n",
       "it             2\n",
       "ja             1\n",
       "nl             1\n",
       "pt             3\n",
       "ro             1\n",
       "sv             1"
      ]
     },
     "execution_count": 4,
     "metadata": {},
     "output_type": "execute_result"
    }
   ],
   "source": [
    "oly[['Author', 'Language']].groupby(['Language']).count()"
   ]
  },
  {
   "cell_type": "code",
   "execution_count": 5,
   "id": "0cec3e43",
   "metadata": {},
   "outputs": [
    {
     "data": {
      "text/plain": [
       "'en'"
      ]
     },
     "execution_count": 5,
     "metadata": {},
     "output_type": "execute_result"
    }
   ],
   "source": [
    "oly['Language'].iloc[0]"
   ]
  },
  {
   "cell_type": "code",
   "execution_count": 6,
   "id": "791fe7d1",
   "metadata": {},
   "outputs": [
    {
     "data": {
      "text/plain": [
       "(143, 41)"
      ]
     },
     "execution_count": 6,
     "metadata": {},
     "output_type": "execute_result"
    }
   ],
   "source": [
    "oly_en = oly[oly['Language'] == 'en']\n",
    "oly_en.shape"
   ]
  },
  {
   "cell_type": "code",
   "execution_count": 7,
   "id": "061e30ca",
   "metadata": {},
   "outputs": [
    {
     "data": {
      "text/plain": [
       "\"@TeamUSA Literally all of the 2012 Olympics for women's artistic gymnastics\""
      ]
     },
     "execution_count": 7,
     "metadata": {},
     "output_type": "execute_result"
    }
   ],
   "source": [
    "oly_en['Full Text'].iloc[0]"
   ]
  },
  {
   "cell_type": "code",
   "execution_count": 8,
   "id": "66e9666f",
   "metadata": {},
   "outputs": [
    {
     "data": {
      "text/plain": [
       "\"@teamusa literally all of the 2012 olympics for women's artistic gymnastics\""
      ]
     },
     "execution_count": 8,
     "metadata": {},
     "output_type": "execute_result"
    }
   ],
   "source": [
    "oly_en['Full Text'].iloc[0].lower()"
   ]
  },
  {
   "cell_type": "code",
   "execution_count": 9,
   "id": "46f56281",
   "metadata": {},
   "outputs": [
    {
     "data": {
      "text/plain": [
       "['@',\n",
       " 'teamusa',\n",
       " 'literally',\n",
       " 'all',\n",
       " 'of',\n",
       " 'the',\n",
       " '2012',\n",
       " 'olympics',\n",
       " 'for',\n",
       " 'women',\n",
       " \"'s\",\n",
       " 'artistic',\n",
       " 'gymnastics']"
      ]
     },
     "execution_count": 9,
     "metadata": {},
     "output_type": "execute_result"
    }
   ],
   "source": [
    "tk.word_tokenize(oly_en['Full Text'].iloc[0].lower())"
   ]
  },
  {
   "cell_type": "code",
   "execution_count": 10,
   "id": "311a6920",
   "metadata": {},
   "outputs": [
    {
     "data": {
      "text/plain": [
       "[\"@teamusa literally all of the 2012 olympics for women's artistic gymnastics\"]"
      ]
     },
     "execution_count": 10,
     "metadata": {},
     "output_type": "execute_result"
    }
   ],
   "source": [
    "tk.sent_tokenize(oly_en['Full Text'].iloc[0].lower())"
   ]
  },
  {
   "cell_type": "code",
   "execution_count": 11,
   "id": "7a364fd0",
   "metadata": {},
   "outputs": [
    {
     "data": {
      "text/plain": [
       "['i', 'me', 'my', 'myself', 'we', 'our', 'ours', 'ourselves', 'you', \"you're\"]"
      ]
     },
     "execution_count": 11,
     "metadata": {},
     "output_type": "execute_result"
    }
   ],
   "source": [
    "stopwords.words('english')[0:10]"
   ]
  },
  {
   "cell_type": "code",
   "execution_count": 12,
   "id": "e010e04c",
   "metadata": {},
   "outputs": [],
   "source": [
    "text_lower = [x.lower() for x in oly_en['Full Text']]\n",
    "tokens = [tk.word_tokenize(x) for x in text_lower]\n",
    "filtered = []\n",
    "for i in tokens:\n",
    "    filtered.append([word for word in i if word not in stopwords.words('english')])"
   ]
  },
  {
   "cell_type": "code",
   "execution_count": 13,
   "id": "3b01f072",
   "metadata": {},
   "outputs": [
    {
     "data": {
      "text/plain": [
       "['@',\n",
       " 'teamusa',\n",
       " 'literally',\n",
       " '2012',\n",
       " 'olympics',\n",
       " 'women',\n",
       " \"'s\",\n",
       " 'artistic',\n",
       " 'gymnastics']"
      ]
     },
     "execution_count": 13,
     "metadata": {},
     "output_type": "execute_result"
    }
   ],
   "source": [
    "filtered[0]"
   ]
  },
  {
   "cell_type": "code",
   "execution_count": 14,
   "id": "78cccc69",
   "metadata": {},
   "outputs": [],
   "source": [
    "freq1 = [FreqDist(x) for x in filtered]\n",
    "f1_counts = [Counter(x) for x in freq1]\n",
    "wordcounts = Counter()\n",
    "for i in f1_counts:\n",
    "    wordcounts += i"
   ]
  },
  {
   "cell_type": "code",
   "execution_count": 15,
   "id": "2e181cc5",
   "metadata": {},
   "outputs": [
    {
     "data": {
      "text/html": [
       "<div>\n",
       "<style scoped>\n",
       "    .dataframe tbody tr th:only-of-type {\n",
       "        vertical-align: middle;\n",
       "    }\n",
       "\n",
       "    .dataframe tbody tr th {\n",
       "        vertical-align: top;\n",
       "    }\n",
       "\n",
       "    .dataframe thead th {\n",
       "        text-align: right;\n",
       "    }\n",
       "</style>\n",
       "<table border=\"1\" class=\"dataframe\">\n",
       "  <thead>\n",
       "    <tr style=\"text-align: right;\">\n",
       "      <th></th>\n",
       "      <th>0</th>\n",
       "    </tr>\n",
       "  </thead>\n",
       "  <tbody>\n",
       "    <tr>\n",
       "      <th>@</th>\n",
       "      <td>420</td>\n",
       "    </tr>\n",
       "    <tr>\n",
       "      <th>.</th>\n",
       "      <td>82</td>\n",
       "    </tr>\n",
       "    <tr>\n",
       "      <th>!</th>\n",
       "      <td>75</td>\n",
       "    </tr>\n",
       "    <tr>\n",
       "      <th>teamusa</th>\n",
       "      <td>64</td>\n",
       "    </tr>\n",
       "    <tr>\n",
       "      <th>#</th>\n",
       "      <td>62</td>\n",
       "    </tr>\n",
       "    <tr>\n",
       "      <th>:</th>\n",
       "      <td>55</td>\n",
       "    </tr>\n",
       "    <tr>\n",
       "      <th>https</th>\n",
       "      <td>41</td>\n",
       "    </tr>\n",
       "    <tr>\n",
       "      <th>,</th>\n",
       "      <td>27</td>\n",
       "    </tr>\n",
       "    <tr>\n",
       "      <th>uswnt</th>\n",
       "      <td>22</td>\n",
       "    </tr>\n",
       "    <tr>\n",
       "      <th>?</th>\n",
       "      <td>12</td>\n",
       "    </tr>\n",
       "  </tbody>\n",
       "</table>\n",
       "</div>"
      ],
      "text/plain": [
       "           0\n",
       "@        420\n",
       ".         82\n",
       "!         75\n",
       "teamusa   64\n",
       "#         62\n",
       ":         55\n",
       "https     41\n",
       ",         27\n",
       "uswnt     22\n",
       "?         12"
      ]
     },
     "execution_count": 15,
     "metadata": {},
     "output_type": "execute_result"
    }
   ],
   "source": [
    "counts = pd.DataFrame.from_dict(dict(wordcounts), orient='index').sort_values(0, ascending = False)\n",
    "counts.head(10)"
   ]
  },
  {
   "cell_type": "code",
   "execution_count": 16,
   "id": "032a3914",
   "metadata": {},
   "outputs": [],
   "source": [
    "analyser = SentimentIntensityAnalyzer()"
   ]
  },
  {
   "cell_type": "code",
   "execution_count": 17,
   "id": "f51a3e90",
   "metadata": {},
   "outputs": [
    {
     "name": "stdout",
     "output_type": "stream",
     "text": [
      "\"To be blunt, it started women's basketball in this country. It gave it the notoriety it deserved.\" -@s10bird We close #WomensHistoryMonth by celebrating the team that started a DYNASTY: The 1996 women of @usabasketball. https://t.co/TI5wWOtjtP\n",
      "{'neg': 0.0, 'neu': 0.902, 'pos': 0.098, 'compound': 0.5719}\n"
     ]
    }
   ],
   "source": [
    "print(oly_en['Full Text'].iloc[2])\n",
    "print(analyser.polarity_scores(oly_en['Full Text'].iloc[2]))"
   ]
  },
  {
   "cell_type": "code",
   "execution_count": 18,
   "id": "8f191fc7",
   "metadata": {},
   "outputs": [
    {
     "data": {
      "text/plain": [
       "[{'neg': 0.0, 'neu': 1.0, 'pos': 0.0, 'compound': 0.0},\n",
       " {'neg': 0.0, 'neu': 1.0, 'pos': 0.0, 'compound': 0.0},\n",
       " {'neg': 0.0, 'neu': 0.902, 'pos': 0.098, 'compound': 0.5719},\n",
       " {'neg': 0.0, 'neu': 0.625, 'pos': 0.375, 'compound': 0.6369},\n",
       " {'neg': 0.0, 'neu': 1.0, 'pos': 0.0, 'compound': 0.0},\n",
       " {'neg': 0.0, 'neu': 0.752, 'pos': 0.248, 'compound': 0.9477},\n",
       " {'neg': 0.042, 'neu': 0.958, 'pos': 0.0, 'compound': -0.0772},\n",
       " {'neg': 0.0, 'neu': 0.494, 'pos': 0.506, 'compound': 0.6239},\n",
       " {'neg': 0.0, 'neu': 1.0, 'pos': 0.0, 'compound': 0.0},\n",
       " {'neg': 0.0, 'neu': 0.815, 'pos': 0.185, 'compound': 0.3612}]"
      ]
     },
     "execution_count": 18,
     "metadata": {},
     "output_type": "execute_result"
    }
   ],
   "source": [
    "sentiments = [analyser.polarity_scores(x) for x in oly_en['Full Text']]\n",
    "sentiments[0:10]"
   ]
  },
  {
   "cell_type": "code",
   "execution_count": 19,
   "id": "4d943bae",
   "metadata": {},
   "outputs": [
    {
     "data": {
      "text/html": [
       "<div>\n",
       "<style scoped>\n",
       "    .dataframe tbody tr th:only-of-type {\n",
       "        vertical-align: middle;\n",
       "    }\n",
       "\n",
       "    .dataframe tbody tr th {\n",
       "        vertical-align: top;\n",
       "    }\n",
       "\n",
       "    .dataframe thead th {\n",
       "        text-align: right;\n",
       "    }\n",
       "</style>\n",
       "<table border=\"1\" class=\"dataframe\">\n",
       "  <thead>\n",
       "    <tr style=\"text-align: right;\">\n",
       "      <th></th>\n",
       "      <th>neg</th>\n",
       "      <th>neu</th>\n",
       "      <th>pos</th>\n",
       "      <th>compound</th>\n",
       "    </tr>\n",
       "  </thead>\n",
       "  <tbody>\n",
       "    <tr>\n",
       "      <th>0</th>\n",
       "      <td>0.0</td>\n",
       "      <td>1.000</td>\n",
       "      <td>0.000</td>\n",
       "      <td>0.0000</td>\n",
       "    </tr>\n",
       "    <tr>\n",
       "      <th>1</th>\n",
       "      <td>0.0</td>\n",
       "      <td>1.000</td>\n",
       "      <td>0.000</td>\n",
       "      <td>0.0000</td>\n",
       "    </tr>\n",
       "    <tr>\n",
       "      <th>2</th>\n",
       "      <td>0.0</td>\n",
       "      <td>0.902</td>\n",
       "      <td>0.098</td>\n",
       "      <td>0.5719</td>\n",
       "    </tr>\n",
       "    <tr>\n",
       "      <th>3</th>\n",
       "      <td>0.0</td>\n",
       "      <td>0.625</td>\n",
       "      <td>0.375</td>\n",
       "      <td>0.6369</td>\n",
       "    </tr>\n",
       "    <tr>\n",
       "      <th>4</th>\n",
       "      <td>0.0</td>\n",
       "      <td>1.000</td>\n",
       "      <td>0.000</td>\n",
       "      <td>0.0000</td>\n",
       "    </tr>\n",
       "  </tbody>\n",
       "</table>\n",
       "</div>"
      ],
      "text/plain": [
       "   neg    neu    pos  compound\n",
       "0  0.0  1.000  0.000    0.0000\n",
       "1  0.0  1.000  0.000    0.0000\n",
       "2  0.0  0.902  0.098    0.5719\n",
       "3  0.0  0.625  0.375    0.6369\n",
       "4  0.0  1.000  0.000    0.0000"
      ]
     },
     "execution_count": 19,
     "metadata": {},
     "output_type": "execute_result"
    }
   ],
   "source": [
    "sentiments_df = pd.DataFrame(sentiments)\n",
    "sentiments_df.head()"
   ]
  },
  {
   "cell_type": "code",
   "execution_count": 20,
   "id": "fa320cf7",
   "metadata": {},
   "outputs": [
    {
     "data": {
      "text/plain": [
       "count    143.000000\n",
       "mean       0.170343\n",
       "std        0.171924\n",
       "min        0.000000\n",
       "25%        0.000000\n",
       "50%        0.143000\n",
       "75%        0.291500\n",
       "max        0.594000\n",
       "Name: pos, dtype: float64"
      ]
     },
     "execution_count": 20,
     "metadata": {},
     "output_type": "execute_result"
    }
   ],
   "source": [
    "sentiments_df['pos'].describe()"
   ]
  },
  {
   "cell_type": "code",
   "execution_count": 21,
   "id": "0b272145",
   "metadata": {},
   "outputs": [
    {
     "data": {
      "image/png": "[encoded data removed]",
      "text/plain": [
       "<Figure size 640x480 with 1 Axes>"
      ]
     },
     "metadata": {},
     "output_type": "display_data"
    }
   ],
   "source": [
    "fig0, ax0 = plt.subplots()\n",
    "ax0.hist(sentiments_df['pos'], alpha = 0.5, color = 'teal', label = 'Positive')\n",
    "ax0.hist(sentiments_df['neg'], alpha = 0.5, color = 'purple', label = 'Negative')\n",
    "ax0.legend()\n",
    "plt.show()"
   ]
  }
 ],
 "metadata": {
  "kernelspec": {
   "display_name": "Python 3 (ipykernel)",
   "language": "python",
   "name": "python3"
  },
  "language_info": {
   "codemirror_mode": {
    "name": "ipython",
    "version": 3
   },
   "file_extension": ".py",
   "mimetype": "text/x-python",
   "name": "python",
   "nbconvert_exporter": "python",
   "pygments_lexer": "ipython3",
   "version": "3.11.4"
  }
 },
 "nbformat": 4,
 "nbformat_minor": 5
}
