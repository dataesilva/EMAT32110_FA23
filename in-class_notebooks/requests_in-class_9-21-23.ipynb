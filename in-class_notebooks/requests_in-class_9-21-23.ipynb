{
 "cells": [
  {
   "cell_type": "code",
   "execution_count": 1,
   "id": "61d8de54",
   "metadata": {},
   "outputs": [],
   "source": [
    "import requests\n",
    "import pandas as pd\n",
    "import base64\n",
    "import json"
   ]
  },
  {
   "cell_type": "code",
   "execution_count": 2,
   "id": "0845989d",
   "metadata": {},
   "outputs": [],
   "source": [
    "response = requests.get('https://en.wikipedia.org/wiki/Triumph_Street_Triple')"
   ]
  },
  {
   "cell_type": "code",
   "execution_count": 3,
   "id": "42b8dd3c",
   "metadata": {},
   "outputs": [
    {
     "data": {
      "text/plain": [
       "200"
      ]
     },
     "execution_count": 3,
     "metadata": {},
     "output_type": "execute_result"
    }
   ],
   "source": [
    "response.status_code"
   ]
  },
  {
   "cell_type": "code",
   "execution_count": 4,
   "id": "3660c80e",
   "metadata": {},
   "outputs": [
    {
     "data": {
      "text/plain": [
       "'<!DOCTYPE html>\\n<html class=\"client-nojs vector-fe'"
      ]
     },
     "execution_count": 4,
     "metadata": {},
     "output_type": "execute_result"
    }
   ],
   "source": [
    "response.text[0:50]"
   ]
  },
  {
   "cell_type": "code",
   "execution_count": 5,
   "id": "0d622850",
   "metadata": {},
   "outputs": [],
   "source": [
    "my_header = {\"User-Agent\": \"Mozilla/5.0 (Windows NT 10.0; Win64; x64) AppleWebKit/537.36 (KHTML, like Gecko) Chrome/116.0.0.0 Safari/537.36\"}"
   ]
  },
  {
   "cell_type": "code",
   "execution_count": 6,
   "id": "23421021",
   "metadata": {},
   "outputs": [],
   "source": [
    "response2 = requests.get('https://en.wikipedia.org/wik/Triumph_Street_Triple', headers = my_header)"
   ]
  },
  {
   "cell_type": "code",
   "execution_count": 7,
   "id": "a45a6647",
   "metadata": {},
   "outputs": [
    {
     "data": {
      "text/plain": [
       "404"
      ]
     },
     "execution_count": 7,
     "metadata": {},
     "output_type": "execute_result"
    }
   ],
   "source": [
    "response2.status_code"
   ]
  },
  {
   "cell_type": "code",
   "execution_count": 8,
   "id": "a80c6d42",
   "metadata": {},
   "outputs": [
    {
     "data": {
      "text/plain": [
       "'<!DOCTYPE html>\\n<html lang=\"en\" dir=\"ltr\">\\n<meta charset=\"utf-8\">\\n<title>Not Found</title>\\n<link rel=\"shortcut icon\" href=\"/favicon.ico\">\\n<style>\\n* { margin: 0; padding: 0; }\\nbody { background: #fff; color: #202122; font: 0.938em/1.6 sans-serif; }\\n.content { margin: 7% auto 0; padding: 2em 1em 1em; max-width: 640px; }\\nimg { float: left; margin: 0 2em 2em 0; }\\na img { border: 0; }\\nh1 { margin-top: 1em; font-size: 1.2em; }\\np { margin: 0.7em 0 1em 0; }\\na { color: #36c; text-decoration: none; }\\na:hover { text-decoration: underline; }\\nem { color: #72777d; font-style: normal; }\\n</style>\\n<div class=\"content\" role=\"main\">\\n<a href=\"https://www.wikimedia.org\"><img src=\"https://www.wikimedia.org/static/images/wmf.png\" srcset=\"https://www.wikimedia.org/static/images/wmf-2x.png 2x\" alt=Wikimedia width=135 height=135></a>\\n<h1>Page not found</h1>\\n<p><em>/wik/Triumph_Street_Triple</em></p>\\n<p>We could not find the above page on our servers.</p>\\n<p><b>Did you mean: <a href=\"/wiki/wik/Triumph_Street_Triple\">/wiki/wik/Triumph_Street_Triple</a></b></p>\\n<p style=\"clear:both;\">Alternatively, you can visit the <a href=\"/\">Main Page</a> or read <a href=\"https://en.wikipedia.org/wiki/HTTP_404\" title=\"Wikipedia: HTTP 404\">more information</a> about this type of error.</p>\\n</div>\\n</html>'"
      ]
     },
     "execution_count": 8,
     "metadata": {},
     "output_type": "execute_result"
    }
   ],
   "source": [
    "response2.text"
   ]
  },
  {
   "cell_type": "code",
   "execution_count": 9,
   "id": "346331cf",
   "metadata": {},
   "outputs": [],
   "source": [
    "Client_ID = pd.read_csv(r\"C:\\Users\\dsilva2\\Spotify-Keys_9-23-21.txt\")['Client_ID'].iloc[0]"
   ]
  },
  {
   "cell_type": "code",
   "execution_count": 10,
   "id": "bb6c2a7a",
   "metadata": {},
   "outputs": [],
   "source": [
    "Client_Secret = pd.read_csv(r\"C:\\Users\\dsilva2\\Spotify-Keys_9-23-21.txt\")['Client_Secret'].iloc[0]"
   ]
  },
  {
   "cell_type": "code",
   "execution_count": 11,
   "id": "55b4277d",
   "metadata": {},
   "outputs": [],
   "source": [
    "# Client_ID"
   ]
  },
  {
   "cell_type": "code",
   "execution_count": 12,
   "id": "8925dead",
   "metadata": {},
   "outputs": [],
   "source": [
    "# Client_Secret"
   ]
  },
  {
   "cell_type": "code",
   "execution_count": 13,
   "id": "7273f06c",
   "metadata": {},
   "outputs": [
    {
     "data": {
      "text/plain": [
       "'hi David Silva'"
      ]
     },
     "execution_count": 13,
     "metadata": {},
     "output_type": "execute_result"
    }
   ],
   "source": [
    "'hi {} {}'.format('David', 'Silva')"
   ]
  },
  {
   "cell_type": "code",
   "execution_count": 14,
   "id": "a94711e9",
   "metadata": {},
   "outputs": [
    {
     "data": {
      "text/plain": [
       "b'aGk='"
      ]
     },
     "execution_count": 14,
     "metadata": {},
     "output_type": "execute_result"
    }
   ],
   "source": [
    "base64.b64encode('hi'.encode('ascii'))"
   ]
  },
  {
   "cell_type": "code",
   "execution_count": 15,
   "id": "6174e1b4",
   "metadata": {},
   "outputs": [],
   "source": [
    "client_cred = base64.b64encode(str(Client_ID + \":\" + Client_Secret).encode(\"ascii\"))"
   ]
  },
  {
   "cell_type": "code",
   "execution_count": 16,
   "id": "07ec12de",
   "metadata": {},
   "outputs": [],
   "source": [
    "# client_cred"
   ]
  },
  {
   "cell_type": "code",
   "execution_count": 17,
   "id": "18bbe0ab",
   "metadata": {},
   "outputs": [],
   "source": [
    "headers = {\"Authorization\": \"Basic {}\".format(client_cred.decode(\"ascii\"))}"
   ]
  },
  {
   "cell_type": "code",
   "execution_count": 18,
   "id": "3a71c8a7",
   "metadata": {},
   "outputs": [],
   "source": [
    "# headers"
   ]
  },
  {
   "cell_type": "code",
   "execution_count": 19,
   "id": "6d4fb8ff",
   "metadata": {},
   "outputs": [],
   "source": [
    "payload = {'grant_type' : 'client_credentials'}\n",
    "url = 'https://accounts.spotify.com/api/token'"
   ]
  },
  {
   "cell_type": "code",
   "execution_count": 20,
   "id": "534c2dc2",
   "metadata": {},
   "outputs": [],
   "source": [
    "session_key_response = requests.post(url = url, data = payload, headers = headers)"
   ]
  },
  {
   "cell_type": "code",
   "execution_count": 21,
   "id": "dbe305df",
   "metadata": {},
   "outputs": [
    {
     "data": {
      "text/plain": [
       "200"
      ]
     },
     "execution_count": 21,
     "metadata": {},
     "output_type": "execute_result"
    }
   ],
   "source": [
    "session_key_response.status_code"
   ]
  },
  {
   "cell_type": "code",
   "execution_count": 22,
   "id": "e6950e1d",
   "metadata": {},
   "outputs": [],
   "source": [
    "# session_key_response.json()['access_token']"
   ]
  },
  {
   "cell_type": "code",
   "execution_count": 23,
   "id": "b9ea6d71",
   "metadata": {},
   "outputs": [],
   "source": [
    "session_header_key = session_key_response.json()"
   ]
  },
  {
   "cell_type": "code",
   "execution_count": 24,
   "id": "a1fcda41",
   "metadata": {},
   "outputs": [],
   "source": [
    "key = session_header_key['access_token']"
   ]
  },
  {
   "cell_type": "code",
   "execution_count": 25,
   "id": "d83a9e64",
   "metadata": {},
   "outputs": [],
   "source": [
    "session_headers = {\"Authorization\": \"Bearer {}\".format(key)}"
   ]
  },
  {
   "cell_type": "code",
   "execution_count": 26,
   "id": "1f6a07c4",
   "metadata": {},
   "outputs": [],
   "source": [
    "# session_headers"
   ]
  },
  {
   "cell_type": "code",
   "execution_count": 27,
   "id": "3d75a324",
   "metadata": {},
   "outputs": [],
   "source": [
    "highly_suspect_id = '7wGLeeJt18EBjc181FP2cM'"
   ]
  },
  {
   "cell_type": "code",
   "execution_count": 28,
   "id": "57d482db",
   "metadata": {},
   "outputs": [],
   "source": [
    "album_url = 'https://api.spotify.com/v1/albums/{}/tracks'.format(highly_suspect_id)"
   ]
  },
  {
   "cell_type": "code",
   "execution_count": 29,
   "id": "73778fdd",
   "metadata": {},
   "outputs": [],
   "source": [
    "response = requests.get(url = album_url, headers = session_headers)"
   ]
  },
  {
   "cell_type": "code",
   "execution_count": 30,
   "id": "da41afb2",
   "metadata": {},
   "outputs": [
    {
     "data": {
      "text/plain": [
       "200"
      ]
     },
     "execution_count": 30,
     "metadata": {},
     "output_type": "execute_result"
    }
   ],
   "source": [
    "response.status_code"
   ]
  },
  {
   "cell_type": "code",
   "execution_count": 31,
   "id": "96b16b7e",
   "metadata": {},
   "outputs": [],
   "source": [
    "data = json.loads(response.text)"
   ]
  },
  {
   "cell_type": "code",
   "execution_count": 32,
   "id": "66be0dec",
   "metadata": {},
   "outputs": [
    {
     "data": {
      "text/plain": [
       "dict"
      ]
     },
     "execution_count": 32,
     "metadata": {},
     "output_type": "execute_result"
    }
   ],
   "source": [
    "type(data)"
   ]
  },
  {
   "cell_type": "code",
   "execution_count": 33,
   "id": "e69cfa88",
   "metadata": {},
   "outputs": [
    {
     "data": {
      "text/plain": [
       "dict_keys(['href', 'items', 'limit', 'next', 'offset', 'previous', 'total'])"
      ]
     },
     "execution_count": 33,
     "metadata": {},
     "output_type": "execute_result"
    }
   ],
   "source": [
    "data.keys()"
   ]
  },
  {
   "cell_type": "code",
   "execution_count": 34,
   "id": "a89033e1",
   "metadata": {},
   "outputs": [
    {
     "data": {
      "text/plain": [
       "list"
      ]
     },
     "execution_count": 34,
     "metadata": {},
     "output_type": "execute_result"
    }
   ],
   "source": [
    "type(data['items'])"
   ]
  },
  {
   "cell_type": "code",
   "execution_count": 35,
   "id": "9d6e2129",
   "metadata": {},
   "outputs": [
    {
     "data": {
      "text/plain": [
       "dict_keys(['artists', 'available_markets', 'disc_number', 'duration_ms', 'explicit', 'external_urls', 'href', 'id', 'is_local', 'name', 'preview_url', 'track_number', 'type', 'uri'])"
      ]
     },
     "execution_count": 35,
     "metadata": {},
     "output_type": "execute_result"
    }
   ],
   "source": [
    "data['items'][0].keys()"
   ]
  },
  {
   "cell_type": "code",
   "execution_count": 36,
   "id": "ea2d2435",
   "metadata": {},
   "outputs": [
    {
     "data": {
      "text/plain": [
       "'Highly Suspect'"
      ]
     },
     "execution_count": 36,
     "metadata": {},
     "output_type": "execute_result"
    }
   ],
   "source": [
    "data['items'][0]['artists'][0]['name']"
   ]
  },
  {
   "cell_type": "code",
   "execution_count": 37,
   "id": "3ce6b01d",
   "metadata": {},
   "outputs": [
    {
     "data": {
      "text/plain": [
       "dict_keys(['artists', 'available_markets', 'disc_number', 'duration_ms', 'explicit', 'external_urls', 'href', 'id', 'is_local', 'name', 'preview_url', 'track_number', 'type', 'uri'])"
      ]
     },
     "execution_count": 37,
     "metadata": {},
     "output_type": "execute_result"
    }
   ],
   "source": [
    "data['items'][0].keys()"
   ]
  },
  {
   "cell_type": "code",
   "execution_count": 38,
   "id": "317143e1",
   "metadata": {},
   "outputs": [
    {
     "data": {
      "text/plain": [
       "'Mister Asylum'"
      ]
     },
     "execution_count": 38,
     "metadata": {},
     "output_type": "execute_result"
    }
   ],
   "source": [
    "data['items'][0]['name']"
   ]
  },
  {
   "cell_type": "code",
   "execution_count": 39,
   "id": "603f959a",
   "metadata": {},
   "outputs": [
    {
     "data": {
      "text/plain": [
       "['Mister Asylum',\n",
       " 'Lost',\n",
       " 'Lydia',\n",
       " 'Bath Salts',\n",
       " '23 (feat. Sasha Dobson)',\n",
       " 'Mom',\n",
       " 'Bloodfeather',\n",
       " 'F**k Me Up',\n",
       " 'Vanity',\n",
       " 'Claudeland']"
      ]
     },
     "execution_count": 39,
     "metadata": {},
     "output_type": "execute_result"
    }
   ],
   "source": [
    "[x['name'] for x in data['items']]"
   ]
  }
 ],
 "metadata": {
  "kernelspec": {
   "display_name": "Python 3",
   "language": "python",
   "name": "python3"
  },
  "language_info": {
   "codemirror_mode": {
    "name": "ipython",
    "version": 3
   },
   "file_extension": ".py",
   "mimetype": "text/x-python",
   "name": "python",
   "nbconvert_exporter": "python",
   "pygments_lexer": "ipython3",
   "version": "3.9.2"
  }
 },
 "nbformat": 4,
 "nbformat_minor": 5
}
