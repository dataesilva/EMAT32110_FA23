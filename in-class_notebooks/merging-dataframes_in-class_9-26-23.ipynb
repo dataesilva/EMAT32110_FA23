{
 "cells": [
  {
   "cell_type": "code",
   "execution_count": 1,
   "id": "61d8de54",
   "metadata": {},
   "outputs": [],
   "source": [
    "import requests\n",
    "import pandas as pd\n",
    "import base64\n",
    "import json\n",
    "import urllib"
   ]
  },
  {
   "cell_type": "code",
   "execution_count": 2,
   "id": "346331cf",
   "metadata": {},
   "outputs": [],
   "source": [
    "Client_ID = pd.read_csv(r\"C:\\Users\\dsilva2\\Spotify-Keys_9-23-21.txt\")['Client_ID'].iloc[0]"
   ]
  },
  {
   "cell_type": "code",
   "execution_count": 3,
   "id": "bb6c2a7a",
   "metadata": {},
   "outputs": [],
   "source": [
    "Client_Secret = pd.read_csv(r\"C:\\Users\\dsilva2\\Spotify-Keys_9-23-21.txt\")['Client_Secret'].iloc[0]"
   ]
  },
  {
   "cell_type": "code",
   "execution_count": 4,
   "id": "55b4277d",
   "metadata": {},
   "outputs": [],
   "source": [
    "# Client_ID"
   ]
  },
  {
   "cell_type": "code",
   "execution_count": 5,
   "id": "8925dead",
   "metadata": {},
   "outputs": [],
   "source": [
    "# Client_Secret"
   ]
  },
  {
   "cell_type": "code",
   "execution_count": 6,
   "id": "6174e1b4",
   "metadata": {},
   "outputs": [],
   "source": [
    "client_cred = base64.b64encode(str(Client_ID + \":\" + Client_Secret).encode(\"ascii\"))"
   ]
  },
  {
   "cell_type": "code",
   "execution_count": 7,
   "id": "07ec12de",
   "metadata": {},
   "outputs": [],
   "source": [
    "# client_cred"
   ]
  },
  {
   "cell_type": "code",
   "execution_count": 8,
   "id": "18bbe0ab",
   "metadata": {},
   "outputs": [],
   "source": [
    "headers = {\"Authorization\": \"Basic {}\".format(client_cred.decode(\"ascii\"))}"
   ]
  },
  {
   "cell_type": "code",
   "execution_count": 9,
   "id": "3a71c8a7",
   "metadata": {},
   "outputs": [],
   "source": [
    "# headers"
   ]
  },
  {
   "cell_type": "code",
   "execution_count": 10,
   "id": "6d4fb8ff",
   "metadata": {},
   "outputs": [],
   "source": [
    "payload = {'grant_type' : 'client_credentials'}\n",
    "url = 'https://accounts.spotify.com/api/token'"
   ]
  },
  {
   "cell_type": "code",
   "execution_count": 11,
   "id": "534c2dc2",
   "metadata": {},
   "outputs": [],
   "source": [
    "session_key_response = requests.post(url = url, data = payload, headers = headers)"
   ]
  },
  {
   "cell_type": "code",
   "execution_count": 12,
   "id": "dbe305df",
   "metadata": {},
   "outputs": [
    {
     "data": {
      "text/plain": [
       "200"
      ]
     },
     "execution_count": 12,
     "metadata": {},
     "output_type": "execute_result"
    }
   ],
   "source": [
    "session_key_response.status_code"
   ]
  },
  {
   "cell_type": "code",
   "execution_count": 13,
   "id": "e6950e1d",
   "metadata": {},
   "outputs": [],
   "source": [
    "# session_key_response.json()['access_token']"
   ]
  },
  {
   "cell_type": "code",
   "execution_count": 14,
   "id": "b9ea6d71",
   "metadata": {},
   "outputs": [],
   "source": [
    "session_header_key = session_key_response.json()"
   ]
  },
  {
   "cell_type": "code",
   "execution_count": 15,
   "id": "a1fcda41",
   "metadata": {},
   "outputs": [],
   "source": [
    "key = session_header_key['access_token']"
   ]
  },
  {
   "cell_type": "code",
   "execution_count": 16,
   "id": "d83a9e64",
   "metadata": {},
   "outputs": [],
   "source": [
    "session_headers = {\"Authorization\": \"Bearer {}\".format(key)}"
   ]
  },
  {
   "cell_type": "code",
   "execution_count": 18,
   "id": "1f6a07c4",
   "metadata": {},
   "outputs": [],
   "source": [
    "# session_headers"
   ]
  },
  {
   "cell_type": "code",
   "execution_count": 20,
   "id": "e42aff63",
   "metadata": {},
   "outputs": [
    {
     "data": {
      "text/plain": [
       "'autumn'"
      ]
     },
     "execution_count": 20,
     "metadata": {},
     "output_type": "execute_result"
    }
   ],
   "source": [
    "urllib.parse.quote('autumn')"
   ]
  },
  {
   "cell_type": "code",
   "execution_count": 24,
   "id": "7e04d486",
   "metadata": {},
   "outputs": [],
   "source": [
    "search_url = 'https://api.spotify.com/v1/search?q={}&type={}&limit=50'\\\n",
    ".format(urllib.parse.quote('autumn'), 'track')"
   ]
  },
  {
   "cell_type": "code",
   "execution_count": 25,
   "id": "6454e39b",
   "metadata": {},
   "outputs": [
    {
     "data": {
      "text/plain": [
       "'https://api.spotify.com/v1/search?q=autumn&type=track&limit=50'"
      ]
     },
     "execution_count": 25,
     "metadata": {},
     "output_type": "execute_result"
    }
   ],
   "source": [
    "search_url"
   ]
  },
  {
   "cell_type": "code",
   "execution_count": 26,
   "id": "c96c1c7f",
   "metadata": {},
   "outputs": [
    {
     "data": {
      "text/plain": [
       "200"
      ]
     },
     "execution_count": 26,
     "metadata": {},
     "output_type": "execute_result"
    }
   ],
   "source": [
    "search_response = requests.get(url = search_url, headers = session_headers)\n",
    "search_response.status_code"
   ]
  },
  {
   "cell_type": "code",
   "execution_count": 27,
   "id": "2d3d3f50",
   "metadata": {},
   "outputs": [],
   "source": [
    "search_data = search_response.json()"
   ]
  },
  {
   "cell_type": "code",
   "execution_count": 29,
   "id": "89445643",
   "metadata": {},
   "outputs": [
    {
     "data": {
      "text/plain": [
       "dict_keys(['tracks'])"
      ]
     },
     "execution_count": 29,
     "metadata": {},
     "output_type": "execute_result"
    }
   ],
   "source": [
    "search_data.keys()"
   ]
  },
  {
   "cell_type": "code",
   "execution_count": 31,
   "id": "52de4cf2",
   "metadata": {},
   "outputs": [
    {
     "data": {
      "text/plain": [
       "dict_keys(['href', 'items', 'limit', 'next', 'offset', 'previous', 'total'])"
      ]
     },
     "execution_count": 31,
     "metadata": {},
     "output_type": "execute_result"
    }
   ],
   "source": [
    "search_data['tracks'].keys()"
   ]
  },
  {
   "cell_type": "code",
   "execution_count": 33,
   "id": "db03a78b",
   "metadata": {},
   "outputs": [
    {
     "data": {
      "text/plain": [
       "list"
      ]
     },
     "execution_count": 33,
     "metadata": {},
     "output_type": "execute_result"
    }
   ],
   "source": [
    "type(search_data['tracks']['items'])"
   ]
  },
  {
   "cell_type": "code",
   "execution_count": 34,
   "id": "10adc282",
   "metadata": {},
   "outputs": [
    {
     "data": {
      "text/plain": [
       "50"
      ]
     },
     "execution_count": 34,
     "metadata": {},
     "output_type": "execute_result"
    }
   ],
   "source": [
    "len(search_data['tracks']['items'])"
   ]
  },
  {
   "cell_type": "code",
   "execution_count": 35,
   "id": "f065577f",
   "metadata": {},
   "outputs": [
    {
     "data": {
      "text/plain": [
       "dict_keys(['album', 'artists', 'available_markets', 'disc_number', 'duration_ms', 'explicit', 'external_ids', 'external_urls', 'href', 'id', 'is_local', 'name', 'popularity', 'preview_url', 'track_number', 'type', 'uri'])"
      ]
     },
     "execution_count": 35,
     "metadata": {},
     "output_type": "execute_result"
    }
   ],
   "source": [
    "search_data['tracks']['items'][0].keys()"
   ]
  },
  {
   "cell_type": "code",
   "execution_count": 38,
   "id": "27aff35b",
   "metadata": {},
   "outputs": [
    {
     "data": {
      "text/plain": [
       "'Autumn Town Leaves'"
      ]
     },
     "execution_count": 38,
     "metadata": {},
     "output_type": "execute_result"
    }
   ],
   "source": [
    "search_data['tracks']['items'][0]['name']"
   ]
  },
  {
   "cell_type": "code",
   "execution_count": 40,
   "id": "81ae35c7",
   "metadata": {},
   "outputs": [
    {
     "ename": "TypeError",
     "evalue": "list indices must be integers or slices, not str",
     "output_type": "error",
     "traceback": [
      "\u001b[1;31m---------------------------------------------------------------------------\u001b[0m",
      "\u001b[1;31mTypeError\u001b[0m                                 Traceback (most recent call last)",
      "Cell \u001b[1;32mIn[40], line 1\u001b[0m\n\u001b[1;32m----> 1\u001b[0m search_data[\u001b[38;5;124m'\u001b[39m\u001b[38;5;124mtracks\u001b[39m\u001b[38;5;124m'\u001b[39m][\u001b[38;5;124m'\u001b[39m\u001b[38;5;124mitems\u001b[39m\u001b[38;5;124m'\u001b[39m][\u001b[38;5;241m0\u001b[39m][\u001b[38;5;124m'\u001b[39m\u001b[38;5;124martists\u001b[39m\u001b[38;5;124m'\u001b[39m][\u001b[38;5;124m'\u001b[39m\u001b[38;5;124mname\u001b[39m\u001b[38;5;124m'\u001b[39m]\n",
      "\u001b[1;31mTypeError\u001b[0m: list indices must be integers or slices, not str"
     ]
    }
   ],
   "source": [
    "search_data['tracks']['items'][0]['artists']['name']"
   ]
  },
  {
   "cell_type": "code",
   "execution_count": 41,
   "id": "3af1b29f",
   "metadata": {},
   "outputs": [
    {
     "data": {
      "text/plain": [
       "list"
      ]
     },
     "execution_count": 41,
     "metadata": {},
     "output_type": "execute_result"
    }
   ],
   "source": [
    "type(search_data['tracks']['items'][0]['artists'])"
   ]
  },
  {
   "cell_type": "code",
   "execution_count": 42,
   "id": "70393e66",
   "metadata": {},
   "outputs": [
    {
     "data": {
      "text/plain": [
       "1"
      ]
     },
     "execution_count": 42,
     "metadata": {},
     "output_type": "execute_result"
    }
   ],
   "source": [
    "len(search_data['tracks']['items'][0]['artists'])"
   ]
  },
  {
   "cell_type": "code",
   "execution_count": 44,
   "id": "5ede626c",
   "metadata": {},
   "outputs": [
    {
     "data": {
      "text/plain": [
       "dict_keys(['external_urls', 'href', 'id', 'name', 'type', 'uri'])"
      ]
     },
     "execution_count": 44,
     "metadata": {},
     "output_type": "execute_result"
    }
   ],
   "source": [
    "search_data['tracks']['items'][0]['artists'][0].keys()"
   ]
  },
  {
   "cell_type": "code",
   "execution_count": 45,
   "id": "8acb2fd3",
   "metadata": {},
   "outputs": [
    {
     "data": {
      "text/plain": [
       "'Iron & Wine'"
      ]
     },
     "execution_count": 45,
     "metadata": {},
     "output_type": "execute_result"
    }
   ],
   "source": [
    "search_data['tracks']['items'][0]['artists'][0]['name']"
   ]
  },
  {
   "cell_type": "code",
   "execution_count": 46,
   "id": "5cb8f64e",
   "metadata": {},
   "outputs": [],
   "source": [
    "search_df = pd.DataFrame(search_data['tracks']['items'])"
   ]
  },
  {
   "cell_type": "code",
   "execution_count": 47,
   "id": "89fba604",
   "metadata": {},
   "outputs": [
    {
     "data": {
      "text/html": [
       "<div>\n",
       "<style scoped>\n",
       "    .dataframe tbody tr th:only-of-type {\n",
       "        vertical-align: middle;\n",
       "    }\n",
       "\n",
       "    .dataframe tbody tr th {\n",
       "        vertical-align: top;\n",
       "    }\n",
       "\n",
       "    .dataframe thead th {\n",
       "        text-align: right;\n",
       "    }\n",
       "</style>\n",
       "<table border=\"1\" class=\"dataframe\">\n",
       "  <thead>\n",
       "    <tr style=\"text-align: right;\">\n",
       "      <th></th>\n",
       "      <th>album</th>\n",
       "      <th>artists</th>\n",
       "      <th>available_markets</th>\n",
       "      <th>disc_number</th>\n",
       "      <th>duration_ms</th>\n",
       "      <th>explicit</th>\n",
       "      <th>external_ids</th>\n",
       "      <th>external_urls</th>\n",
       "      <th>href</th>\n",
       "      <th>id</th>\n",
       "      <th>is_local</th>\n",
       "      <th>name</th>\n",
       "      <th>popularity</th>\n",
       "      <th>preview_url</th>\n",
       "      <th>track_number</th>\n",
       "      <th>type</th>\n",
       "      <th>uri</th>\n",
       "    </tr>\n",
       "  </thead>\n",
       "  <tbody>\n",
       "    <tr>\n",
       "      <th>0</th>\n",
       "      <td>{'album_type': 'single', 'artists': [{'externa...</td>\n",
       "      <td>[{'external_urls': {'spotify': 'https://open.s...</td>\n",
       "      <td>[AR, AU, AT, BE, BO, BR, BG, CA, CL, CO, CR, C...</td>\n",
       "      <td>1</td>\n",
       "      <td>195200</td>\n",
       "      <td>False</td>\n",
       "      <td>{'isrc': 'USSUB1825505'}</td>\n",
       "      <td>{'spotify': 'https://open.spotify.com/track/6H...</td>\n",
       "      <td>https://api.spotify.com/v1/tracks/6HbxpoChDH9T...</td>\n",
       "      <td>6HbxpoChDH9ThadFOSAnma</td>\n",
       "      <td>False</td>\n",
       "      <td>Autumn Town Leaves</td>\n",
       "      <td>64</td>\n",
       "      <td>https://p.scdn.co/mp3-preview/2d420d644187c4d2...</td>\n",
       "      <td>5</td>\n",
       "      <td>track</td>\n",
       "      <td>spotify:track:6HbxpoChDH9ThadFOSAnma</td>\n",
       "    </tr>\n",
       "    <tr>\n",
       "      <th>1</th>\n",
       "      <td>{'album_type': 'album', 'artists': [{'external...</td>\n",
       "      <td>[{'external_urls': {'spotify': 'https://open.s...</td>\n",
       "      <td>[AR, AU, AT, BE, BO, BR, BG, CA, CL, CO, CR, C...</td>\n",
       "      <td>1</td>\n",
       "      <td>160666</td>\n",
       "      <td>False</td>\n",
       "      <td>{'isrc': 'USCA28700088'}</td>\n",
       "      <td>{'spotify': 'https://open.spotify.com/track/3A...</td>\n",
       "      <td>https://api.spotify.com/v1/tracks/3AgqQbQWYLGs...</td>\n",
       "      <td>3AgqQbQWYLGsemeBHk1U1d</td>\n",
       "      <td>False</td>\n",
       "      <td>Autumn Leaves - Remastered 1987</td>\n",
       "      <td>57</td>\n",
       "      <td>None</td>\n",
       "      <td>5</td>\n",
       "      <td>track</td>\n",
       "      <td>spotify:track:3AgqQbQWYLGsemeBHk1U1d</td>\n",
       "    </tr>\n",
       "    <tr>\n",
       "      <th>2</th>\n",
       "      <td>{'album_type': 'compilation', 'artists': [{'ex...</td>\n",
       "      <td>[{'external_urls': {'spotify': 'https://open.s...</td>\n",
       "      <td>[AR, AU, AT, BE, BO, BR, BG, CL, CO, CR, CY, C...</td>\n",
       "      <td>13</td>\n",
       "      <td>188933</td>\n",
       "      <td>False</td>\n",
       "      <td>{'isrc': 'USCA29300693'}</td>\n",
       "      <td>{'spotify': 'https://open.spotify.com/track/0O...</td>\n",
       "      <td>https://api.spotify.com/v1/tracks/0OFzGWNvMR7q...</td>\n",
       "      <td>0OFzGWNvMR7qvRsD14dxIT</td>\n",
       "      <td>False</td>\n",
       "      <td>'Tis Autumn</td>\n",
       "      <td>53</td>\n",
       "      <td>None</td>\n",
       "      <td>11</td>\n",
       "      <td>track</td>\n",
       "      <td>spotify:track:0OFzGWNvMR7qvRsD14dxIT</td>\n",
       "    </tr>\n",
       "    <tr>\n",
       "      <th>3</th>\n",
       "      <td>{'album_type': 'album', 'artists': [{'external...</td>\n",
       "      <td>[{'external_urls': {'spotify': 'https://open.s...</td>\n",
       "      <td>[AR, AU, AT, BE, BO, BR, BG, CL, CO, CR, CY, C...</td>\n",
       "      <td>1</td>\n",
       "      <td>200755</td>\n",
       "      <td>False</td>\n",
       "      <td>{'isrc': 'GBAHS1100210'}</td>\n",
       "      <td>{'spotify': 'https://open.spotify.com/track/7i...</td>\n",
       "      <td>https://api.spotify.com/v1/tracks/7iBSkXB0pTvZ...</td>\n",
       "      <td>7iBSkXB0pTvZasOLf0Qxk9</td>\n",
       "      <td>False</td>\n",
       "      <td>Autumn Leaves - Deluxe Edition</td>\n",
       "      <td>60</td>\n",
       "      <td>https://p.scdn.co/mp3-preview/c44c7b9f86ef3dae...</td>\n",
       "      <td>13</td>\n",
       "      <td>track</td>\n",
       "      <td>spotify:track:7iBSkXB0pTvZasOLf0Qxk9</td>\n",
       "    </tr>\n",
       "    <tr>\n",
       "      <th>4</th>\n",
       "      <td>{'album_type': 'album', 'artists': [{'external...</td>\n",
       "      <td>[{'external_urls': {'spotify': 'https://open.s...</td>\n",
       "      <td>[AR, AU, AT, BE, BO, BR, BG, CA, CL, CO, CR, C...</td>\n",
       "      <td>1</td>\n",
       "      <td>356626</td>\n",
       "      <td>False</td>\n",
       "      <td>{'isrc': 'USPR35712068'}</td>\n",
       "      <td>{'spotify': 'https://open.spotify.com/track/0f...</td>\n",
       "      <td>https://api.spotify.com/v1/tracks/0f2489MzoisF...</td>\n",
       "      <td>0f2489MzoisF9pKduawvce</td>\n",
       "      <td>False</td>\n",
       "      <td>Autumn In New York</td>\n",
       "      <td>60</td>\n",
       "      <td>None</td>\n",
       "      <td>5</td>\n",
       "      <td>track</td>\n",
       "      <td>spotify:track:0f2489MzoisF9pKduawvce</td>\n",
       "    </tr>\n",
       "  </tbody>\n",
       "</table>\n",
       "</div>"
      ],
      "text/plain": [
       "                                               album  \\\n",
       "0  {'album_type': 'single', 'artists': [{'externa...   \n",
       "1  {'album_type': 'album', 'artists': [{'external...   \n",
       "2  {'album_type': 'compilation', 'artists': [{'ex...   \n",
       "3  {'album_type': 'album', 'artists': [{'external...   \n",
       "4  {'album_type': 'album', 'artists': [{'external...   \n",
       "\n",
       "                                             artists  \\\n",
       "0  [{'external_urls': {'spotify': 'https://open.s...   \n",
       "1  [{'external_urls': {'spotify': 'https://open.s...   \n",
       "2  [{'external_urls': {'spotify': 'https://open.s...   \n",
       "3  [{'external_urls': {'spotify': 'https://open.s...   \n",
       "4  [{'external_urls': {'spotify': 'https://open.s...   \n",
       "\n",
       "                                   available_markets  disc_number  \\\n",
       "0  [AR, AU, AT, BE, BO, BR, BG, CA, CL, CO, CR, C...            1   \n",
       "1  [AR, AU, AT, BE, BO, BR, BG, CA, CL, CO, CR, C...            1   \n",
       "2  [AR, AU, AT, BE, BO, BR, BG, CL, CO, CR, CY, C...           13   \n",
       "3  [AR, AU, AT, BE, BO, BR, BG, CL, CO, CR, CY, C...            1   \n",
       "4  [AR, AU, AT, BE, BO, BR, BG, CA, CL, CO, CR, C...            1   \n",
       "\n",
       "   duration_ms  explicit              external_ids  \\\n",
       "0       195200     False  {'isrc': 'USSUB1825505'}   \n",
       "1       160666     False  {'isrc': 'USCA28700088'}   \n",
       "2       188933     False  {'isrc': 'USCA29300693'}   \n",
       "3       200755     False  {'isrc': 'GBAHS1100210'}   \n",
       "4       356626     False  {'isrc': 'USPR35712068'}   \n",
       "\n",
       "                                       external_urls  \\\n",
       "0  {'spotify': 'https://open.spotify.com/track/6H...   \n",
       "1  {'spotify': 'https://open.spotify.com/track/3A...   \n",
       "2  {'spotify': 'https://open.spotify.com/track/0O...   \n",
       "3  {'spotify': 'https://open.spotify.com/track/7i...   \n",
       "4  {'spotify': 'https://open.spotify.com/track/0f...   \n",
       "\n",
       "                                                href                      id  \\\n",
       "0  https://api.spotify.com/v1/tracks/6HbxpoChDH9T...  6HbxpoChDH9ThadFOSAnma   \n",
       "1  https://api.spotify.com/v1/tracks/3AgqQbQWYLGs...  3AgqQbQWYLGsemeBHk1U1d   \n",
       "2  https://api.spotify.com/v1/tracks/0OFzGWNvMR7q...  0OFzGWNvMR7qvRsD14dxIT   \n",
       "3  https://api.spotify.com/v1/tracks/7iBSkXB0pTvZ...  7iBSkXB0pTvZasOLf0Qxk9   \n",
       "4  https://api.spotify.com/v1/tracks/0f2489MzoisF...  0f2489MzoisF9pKduawvce   \n",
       "\n",
       "   is_local                             name  popularity  \\\n",
       "0     False               Autumn Town Leaves          64   \n",
       "1     False  Autumn Leaves - Remastered 1987          57   \n",
       "2     False                      'Tis Autumn          53   \n",
       "3     False   Autumn Leaves - Deluxe Edition          60   \n",
       "4     False               Autumn In New York          60   \n",
       "\n",
       "                                         preview_url  track_number   type  \\\n",
       "0  https://p.scdn.co/mp3-preview/2d420d644187c4d2...             5  track   \n",
       "1                                               None             5  track   \n",
       "2                                               None            11  track   \n",
       "3  https://p.scdn.co/mp3-preview/c44c7b9f86ef3dae...            13  track   \n",
       "4                                               None             5  track   \n",
       "\n",
       "                                    uri  \n",
       "0  spotify:track:6HbxpoChDH9ThadFOSAnma  \n",
       "1  spotify:track:3AgqQbQWYLGsemeBHk1U1d  \n",
       "2  spotify:track:0OFzGWNvMR7qvRsD14dxIT  \n",
       "3  spotify:track:7iBSkXB0pTvZasOLf0Qxk9  \n",
       "4  spotify:track:0f2489MzoisF9pKduawvce  "
      ]
     },
     "execution_count": 47,
     "metadata": {},
     "output_type": "execute_result"
    }
   ],
   "source": [
    "search_df.head()"
   ]
  },
  {
   "cell_type": "code",
   "execution_count": 48,
   "id": "4df8bf7d",
   "metadata": {},
   "outputs": [
    {
     "data": {
      "text/plain": [
       "'a,b,c'"
      ]
     },
     "execution_count": 48,
     "metadata": {},
     "output_type": "execute_result"
    }
   ],
   "source": [
    "','.join(['a', 'b', 'c'])"
   ]
  },
  {
   "cell_type": "code",
   "execution_count": 51,
   "id": "4d13c0b9",
   "metadata": {},
   "outputs": [
    {
     "data": {
      "text/plain": [
       "'6HbxpoChDH9ThadFOSAnma,3AgqQbQWYLGsemeBHk1U1d,0OFzGWNvMR7qvRsD14dxIT,7iBSkXB0pTvZasOLf0Qxk9,0f2489MzoisF9pKduawvce,7GgYmXY3PfDjTiyjUlvF7Y,1QlTNF43OyKK9BorIRsJ8o,2jtvpOlLvGzuNLqOBeAz7q,158kubraiqKrcYpRsDHrBU,1Yv6PMPkvLdCIFbm9kanaz,4xuRZJcH6n64BLBJFyVMun,5kVaJiItTvUFR9jy5lgNQo,7hps38tfR5gcq05cHRijDT,3a2EtryAoijDMEAOaFSxqH,6o5RbQYhmF4yRRw7ZArxGL,6H2DZi9gxKfpLnV6wlJu3q,4JW7fbtsAqxImfLHticNVj,0WdiW7zP35hfIAw6jKxwIS,7tKK8AGJ6Nfefm829JwLgr,0X5DcGkbxCXSadgj01ZXd7,100N8P8WYnz9eCYuLYGflV,4zPDjRgceGrR0Sm54YDTTf,1c0STYgJBkmvh0HL47ghwD,3RRGX8f4FFOcyMDH0nN9cw,19Qi2Cymjh7HDQESDrDBzs,1as81KphEOxPNBthbuzlcx,77eyTozd749OwrD7cQAQ5H,0vwMdWKwS4mjeKiYvEq5Vc,0AA0p2JCIaY1RKxIBckGmG,7EnTL86j0jXu2IHEw14piE,3FFYuymUtI8DihGhLMHggW,7EJ1CjaeHobTNQCJOrFmpZ,4Gv9rfzkqUZp3iE3JBTcd6,6Ad2BCQGByNSDSYAdn9iEk,7JtcCde09fsajDNHmPFrX7,3ETnOWL2KlSnnro6NDi4G4,0a0rKhcfNqtH8WSAcS3vLO,7d20u6lKFtjLVNW9nhJAsL,0JuPu6lUE5MkoaKtth8ajC,7LH23JWscpHi2FQIDrCrj0,7brc41T70B1IIwg2jCIX1Z,6C0xrpCLSiAIm242vKE7HA,161evQybSEzoy0FvAX8bsE,5URbZBwi9r400J633zdd3h,2xJXrmSoaxG4llccpbGsoD,2w3XMjQfcfO2cS1T0xXcDu,2JEDACLvBw4Tw7AaNaQGlj,1pJhsq5KGYIPlpcbkPi8K3,0bSDiW5sQFu4Z9E70gR2zD,7ocpmlXkxJVGtPLLFQhMGP'"
      ]
     },
     "execution_count": 51,
     "metadata": {},
     "output_type": "execute_result"
    }
   ],
   "source": [
    "','.join(list(search_df['id']))"
   ]
  },
  {
   "cell_type": "code",
   "execution_count": 52,
   "id": "b9b6c8d4",
   "metadata": {},
   "outputs": [],
   "source": [
    "audio_features_url = 'https://api.spotify.com/v1/audio-features?ids={}'\\\n",
    ".format(','.join(list(search_df['id'])))"
   ]
  },
  {
   "cell_type": "code",
   "execution_count": 53,
   "id": "1e79022f",
   "metadata": {},
   "outputs": [
    {
     "data": {
      "text/plain": [
       "'https://api.spotify.com/v1/audio-features?ids=6HbxpoChDH9ThadFOSAnma,3AgqQbQWYLGsemeBHk1U1d,0OFzGWNvMR7qvRsD14dxIT,7iBSkXB0pTvZasOLf0Qxk9,0f2489MzoisF9pKduawvce,7GgYmXY3PfDjTiyjUlvF7Y,1QlTNF43OyKK9BorIRsJ8o,2jtvpOlLvGzuNLqOBeAz7q,158kubraiqKrcYpRsDHrBU,1Yv6PMPkvLdCIFbm9kanaz,4xuRZJcH6n64BLBJFyVMun,5kVaJiItTvUFR9jy5lgNQo,7hps38tfR5gcq05cHRijDT,3a2EtryAoijDMEAOaFSxqH,6o5RbQYhmF4yRRw7ZArxGL,6H2DZi9gxKfpLnV6wlJu3q,4JW7fbtsAqxImfLHticNVj,0WdiW7zP35hfIAw6jKxwIS,7tKK8AGJ6Nfefm829JwLgr,0X5DcGkbxCXSadgj01ZXd7,100N8P8WYnz9eCYuLYGflV,4zPDjRgceGrR0Sm54YDTTf,1c0STYgJBkmvh0HL47ghwD,3RRGX8f4FFOcyMDH0nN9cw,19Qi2Cymjh7HDQESDrDBzs,1as81KphEOxPNBthbuzlcx,77eyTozd749OwrD7cQAQ5H,0vwMdWKwS4mjeKiYvEq5Vc,0AA0p2JCIaY1RKxIBckGmG,7EnTL86j0jXu2IHEw14piE,3FFYuymUtI8DihGhLMHggW,7EJ1CjaeHobTNQCJOrFmpZ,4Gv9rfzkqUZp3iE3JBTcd6,6Ad2BCQGByNSDSYAdn9iEk,7JtcCde09fsajDNHmPFrX7,3ETnOWL2KlSnnro6NDi4G4,0a0rKhcfNqtH8WSAcS3vLO,7d20u6lKFtjLVNW9nhJAsL,0JuPu6lUE5MkoaKtth8ajC,7LH23JWscpHi2FQIDrCrj0,7brc41T70B1IIwg2jCIX1Z,6C0xrpCLSiAIm242vKE7HA,161evQybSEzoy0FvAX8bsE,5URbZBwi9r400J633zdd3h,2xJXrmSoaxG4llccpbGsoD,2w3XMjQfcfO2cS1T0xXcDu,2JEDACLvBw4Tw7AaNaQGlj,1pJhsq5KGYIPlpcbkPi8K3,0bSDiW5sQFu4Z9E70gR2zD,7ocpmlXkxJVGtPLLFQhMGP'"
      ]
     },
     "execution_count": 53,
     "metadata": {},
     "output_type": "execute_result"
    }
   ],
   "source": [
    "audio_features_url"
   ]
  },
  {
   "cell_type": "code",
   "execution_count": 54,
   "id": "47b46f73",
   "metadata": {},
   "outputs": [
    {
     "data": {
      "text/plain": [
       "200"
      ]
     },
     "execution_count": 54,
     "metadata": {},
     "output_type": "execute_result"
    }
   ],
   "source": [
    "features_response = requests.get(url = audio_features_url, headers = session_headers)\n",
    "features_response.status_code"
   ]
  },
  {
   "cell_type": "code",
   "execution_count": 56,
   "id": "16a2ed7b",
   "metadata": {},
   "outputs": [],
   "source": [
    "features = features_response.json()"
   ]
  },
  {
   "cell_type": "code",
   "execution_count": 58,
   "id": "ae7aff4b",
   "metadata": {},
   "outputs": [
    {
     "data": {
      "text/plain": [
       "dict_keys(['audio_features'])"
      ]
     },
     "execution_count": 58,
     "metadata": {},
     "output_type": "execute_result"
    }
   ],
   "source": [
    "features.keys()"
   ]
  },
  {
   "cell_type": "code",
   "execution_count": 61,
   "id": "295b8abb",
   "metadata": {},
   "outputs": [
    {
     "data": {
      "text/plain": [
       "0.662"
      ]
     },
     "execution_count": 61,
     "metadata": {},
     "output_type": "execute_result"
    }
   ],
   "source": [
    "features['audio_features'][0]['danceability']"
   ]
  },
  {
   "cell_type": "code",
   "execution_count": 62,
   "id": "32d030ba",
   "metadata": {},
   "outputs": [],
   "source": [
    "features_df = pd.DataFrame(features['audio_features'])"
   ]
  },
  {
   "cell_type": "code",
   "execution_count": 63,
   "id": "d98a140f",
   "metadata": {},
   "outputs": [
    {
     "data": {
      "text/html": [
       "<div>\n",
       "<style scoped>\n",
       "    .dataframe tbody tr th:only-of-type {\n",
       "        vertical-align: middle;\n",
       "    }\n",
       "\n",
       "    .dataframe tbody tr th {\n",
       "        vertical-align: top;\n",
       "    }\n",
       "\n",
       "    .dataframe thead th {\n",
       "        text-align: right;\n",
       "    }\n",
       "</style>\n",
       "<table border=\"1\" class=\"dataframe\">\n",
       "  <thead>\n",
       "    <tr style=\"text-align: right;\">\n",
       "      <th></th>\n",
       "      <th>danceability</th>\n",
       "      <th>energy</th>\n",
       "      <th>key</th>\n",
       "      <th>loudness</th>\n",
       "      <th>mode</th>\n",
       "      <th>speechiness</th>\n",
       "      <th>acousticness</th>\n",
       "      <th>instrumentalness</th>\n",
       "      <th>liveness</th>\n",
       "      <th>valence</th>\n",
       "      <th>tempo</th>\n",
       "      <th>type</th>\n",
       "      <th>id</th>\n",
       "      <th>uri</th>\n",
       "      <th>track_href</th>\n",
       "      <th>analysis_url</th>\n",
       "      <th>duration_ms</th>\n",
       "      <th>time_signature</th>\n",
       "    </tr>\n",
       "  </thead>\n",
       "  <tbody>\n",
       "    <tr>\n",
       "      <th>0</th>\n",
       "      <td>0.662</td>\n",
       "      <td>0.3220</td>\n",
       "      <td>1</td>\n",
       "      <td>-15.115</td>\n",
       "      <td>1</td>\n",
       "      <td>0.0304</td>\n",
       "      <td>0.855</td>\n",
       "      <td>0.001900</td>\n",
       "      <td>0.144</td>\n",
       "      <td>0.4250</td>\n",
       "      <td>115.771</td>\n",
       "      <td>audio_features</td>\n",
       "      <td>6HbxpoChDH9ThadFOSAnma</td>\n",
       "      <td>spotify:track:6HbxpoChDH9ThadFOSAnma</td>\n",
       "      <td>https://api.spotify.com/v1/tracks/6HbxpoChDH9T...</td>\n",
       "      <td>https://api.spotify.com/v1/audio-analysis/6Hbx...</td>\n",
       "      <td>195200</td>\n",
       "      <td>4</td>\n",
       "    </tr>\n",
       "    <tr>\n",
       "      <th>1</th>\n",
       "      <td>0.211</td>\n",
       "      <td>0.3480</td>\n",
       "      <td>2</td>\n",
       "      <td>-10.120</td>\n",
       "      <td>0</td>\n",
       "      <td>0.0326</td>\n",
       "      <td>0.939</td>\n",
       "      <td>0.000520</td>\n",
       "      <td>0.384</td>\n",
       "      <td>0.0981</td>\n",
       "      <td>86.868</td>\n",
       "      <td>audio_features</td>\n",
       "      <td>3AgqQbQWYLGsemeBHk1U1d</td>\n",
       "      <td>spotify:track:3AgqQbQWYLGsemeBHk1U1d</td>\n",
       "      <td>https://api.spotify.com/v1/tracks/3AgqQbQWYLGs...</td>\n",
       "      <td>https://api.spotify.com/v1/audio-analysis/3Agq...</td>\n",
       "      <td>160667</td>\n",
       "      <td>5</td>\n",
       "    </tr>\n",
       "    <tr>\n",
       "      <th>2</th>\n",
       "      <td>0.403</td>\n",
       "      <td>0.0728</td>\n",
       "      <td>7</td>\n",
       "      <td>-20.622</td>\n",
       "      <td>0</td>\n",
       "      <td>0.0603</td>\n",
       "      <td>0.966</td>\n",
       "      <td>0.000070</td>\n",
       "      <td>0.106</td>\n",
       "      <td>0.1520</td>\n",
       "      <td>178.645</td>\n",
       "      <td>audio_features</td>\n",
       "      <td>0OFzGWNvMR7qvRsD14dxIT</td>\n",
       "      <td>spotify:track:0OFzGWNvMR7qvRsD14dxIT</td>\n",
       "      <td>https://api.spotify.com/v1/tracks/0OFzGWNvMR7q...</td>\n",
       "      <td>https://api.spotify.com/v1/audio-analysis/0OFz...</td>\n",
       "      <td>188933</td>\n",
       "      <td>3</td>\n",
       "    </tr>\n",
       "    <tr>\n",
       "      <th>3</th>\n",
       "      <td>0.555</td>\n",
       "      <td>0.2570</td>\n",
       "      <td>10</td>\n",
       "      <td>-12.637</td>\n",
       "      <td>1</td>\n",
       "      <td>0.0299</td>\n",
       "      <td>0.892</td>\n",
       "      <td>0.000001</td>\n",
       "      <td>0.124</td>\n",
       "      <td>0.4310</td>\n",
       "      <td>89.013</td>\n",
       "      <td>audio_features</td>\n",
       "      <td>7iBSkXB0pTvZasOLf0Qxk9</td>\n",
       "      <td>spotify:track:7iBSkXB0pTvZasOLf0Qxk9</td>\n",
       "      <td>https://api.spotify.com/v1/tracks/7iBSkXB0pTvZ...</td>\n",
       "      <td>https://api.spotify.com/v1/audio-analysis/7iBS...</td>\n",
       "      <td>200756</td>\n",
       "      <td>4</td>\n",
       "    </tr>\n",
       "    <tr>\n",
       "      <th>4</th>\n",
       "      <td>0.425</td>\n",
       "      <td>0.0469</td>\n",
       "      <td>7</td>\n",
       "      <td>-18.612</td>\n",
       "      <td>0</td>\n",
       "      <td>0.0354</td>\n",
       "      <td>0.955</td>\n",
       "      <td>0.000000</td>\n",
       "      <td>0.137</td>\n",
       "      <td>0.1540</td>\n",
       "      <td>135.335</td>\n",
       "      <td>audio_features</td>\n",
       "      <td>0f2489MzoisF9pKduawvce</td>\n",
       "      <td>spotify:track:0f2489MzoisF9pKduawvce</td>\n",
       "      <td>https://api.spotify.com/v1/tracks/0f2489MzoisF...</td>\n",
       "      <td>https://api.spotify.com/v1/audio-analysis/0f24...</td>\n",
       "      <td>356627</td>\n",
       "      <td>4</td>\n",
       "    </tr>\n",
       "  </tbody>\n",
       "</table>\n",
       "</div>"
      ],
      "text/plain": [
       "   danceability  energy  key  loudness  mode  speechiness  acousticness  \\\n",
       "0         0.662  0.3220    1   -15.115     1       0.0304         0.855   \n",
       "1         0.211  0.3480    2   -10.120     0       0.0326         0.939   \n",
       "2         0.403  0.0728    7   -20.622     0       0.0603         0.966   \n",
       "3         0.555  0.2570   10   -12.637     1       0.0299         0.892   \n",
       "4         0.425  0.0469    7   -18.612     0       0.0354         0.955   \n",
       "\n",
       "   instrumentalness  liveness  valence    tempo            type  \\\n",
       "0          0.001900     0.144   0.4250  115.771  audio_features   \n",
       "1          0.000520     0.384   0.0981   86.868  audio_features   \n",
       "2          0.000070     0.106   0.1520  178.645  audio_features   \n",
       "3          0.000001     0.124   0.4310   89.013  audio_features   \n",
       "4          0.000000     0.137   0.1540  135.335  audio_features   \n",
       "\n",
       "                       id                                   uri  \\\n",
       "0  6HbxpoChDH9ThadFOSAnma  spotify:track:6HbxpoChDH9ThadFOSAnma   \n",
       "1  3AgqQbQWYLGsemeBHk1U1d  spotify:track:3AgqQbQWYLGsemeBHk1U1d   \n",
       "2  0OFzGWNvMR7qvRsD14dxIT  spotify:track:0OFzGWNvMR7qvRsD14dxIT   \n",
       "3  7iBSkXB0pTvZasOLf0Qxk9  spotify:track:7iBSkXB0pTvZasOLf0Qxk9   \n",
       "4  0f2489MzoisF9pKduawvce  spotify:track:0f2489MzoisF9pKduawvce   \n",
       "\n",
       "                                          track_href  \\\n",
       "0  https://api.spotify.com/v1/tracks/6HbxpoChDH9T...   \n",
       "1  https://api.spotify.com/v1/tracks/3AgqQbQWYLGs...   \n",
       "2  https://api.spotify.com/v1/tracks/0OFzGWNvMR7q...   \n",
       "3  https://api.spotify.com/v1/tracks/7iBSkXB0pTvZ...   \n",
       "4  https://api.spotify.com/v1/tracks/0f2489MzoisF...   \n",
       "\n",
       "                                        analysis_url  duration_ms  \\\n",
       "0  https://api.spotify.com/v1/audio-analysis/6Hbx...       195200   \n",
       "1  https://api.spotify.com/v1/audio-analysis/3Agq...       160667   \n",
       "2  https://api.spotify.com/v1/audio-analysis/0OFz...       188933   \n",
       "3  https://api.spotify.com/v1/audio-analysis/7iBS...       200756   \n",
       "4  https://api.spotify.com/v1/audio-analysis/0f24...       356627   \n",
       "\n",
       "   time_signature  \n",
       "0               4  \n",
       "1               5  \n",
       "2               3  \n",
       "3               4  \n",
       "4               4  "
      ]
     },
     "execution_count": 63,
     "metadata": {},
     "output_type": "execute_result"
    }
   ],
   "source": [
    "features_df.head()"
   ]
  },
  {
   "cell_type": "code",
   "execution_count": 64,
   "id": "2f2a43e2",
   "metadata": {},
   "outputs": [],
   "source": [
    "joined_df = pd.merge(search_df, features_df, how = 'inner', on = 'id')"
   ]
  },
  {
   "cell_type": "code",
   "execution_count": 65,
   "id": "5558c28b",
   "metadata": {},
   "outputs": [
    {
     "data": {
      "text/plain": [
       "Index(['album', 'artists', 'available_markets', 'disc_number', 'duration_ms_x',\n",
       "       'explicit', 'external_ids', 'external_urls', 'href', 'id', 'is_local',\n",
       "       'name', 'popularity', 'preview_url', 'track_number', 'type_x', 'uri_x',\n",
       "       'danceability', 'energy', 'key', 'loudness', 'mode', 'speechiness',\n",
       "       'acousticness', 'instrumentalness', 'liveness', 'valence', 'tempo',\n",
       "       'type_y', 'uri_y', 'track_href', 'analysis_url', 'duration_ms_y',\n",
       "       'time_signature'],\n",
       "      dtype='object')"
      ]
     },
     "execution_count": 65,
     "metadata": {},
     "output_type": "execute_result"
    }
   ],
   "source": [
    "joined_df.columns"
   ]
  },
  {
   "cell_type": "code",
   "execution_count": 66,
   "id": "5a9c4fa8",
   "metadata": {},
   "outputs": [
    {
     "data": {
      "text/plain": [
       "(50, 34)"
      ]
     },
     "execution_count": 66,
     "metadata": {},
     "output_type": "execute_result"
    }
   ],
   "source": [
    "joined_df.shape"
   ]
  },
  {
   "cell_type": "code",
   "execution_count": 67,
   "id": "d7815a66",
   "metadata": {},
   "outputs": [
    {
     "data": {
      "text/html": [
       "<div>\n",
       "<style scoped>\n",
       "    .dataframe tbody tr th:only-of-type {\n",
       "        vertical-align: middle;\n",
       "    }\n",
       "\n",
       "    .dataframe tbody tr th {\n",
       "        vertical-align: top;\n",
       "    }\n",
       "\n",
       "    .dataframe thead th {\n",
       "        text-align: right;\n",
       "    }\n",
       "</style>\n",
       "<table border=\"1\" class=\"dataframe\">\n",
       "  <thead>\n",
       "    <tr style=\"text-align: right;\">\n",
       "      <th></th>\n",
       "      <th>album</th>\n",
       "      <th>artists</th>\n",
       "      <th>available_markets</th>\n",
       "      <th>disc_number</th>\n",
       "      <th>duration_ms_x</th>\n",
       "      <th>explicit</th>\n",
       "      <th>external_ids</th>\n",
       "      <th>external_urls</th>\n",
       "      <th>href</th>\n",
       "      <th>id</th>\n",
       "      <th>...</th>\n",
       "      <th>instrumentalness</th>\n",
       "      <th>liveness</th>\n",
       "      <th>valence</th>\n",
       "      <th>tempo</th>\n",
       "      <th>type_y</th>\n",
       "      <th>uri_y</th>\n",
       "      <th>track_href</th>\n",
       "      <th>analysis_url</th>\n",
       "      <th>duration_ms_y</th>\n",
       "      <th>time_signature</th>\n",
       "    </tr>\n",
       "  </thead>\n",
       "  <tbody>\n",
       "    <tr>\n",
       "      <th>0</th>\n",
       "      <td>{'album_type': 'single', 'artists': [{'externa...</td>\n",
       "      <td>[{'external_urls': {'spotify': 'https://open.s...</td>\n",
       "      <td>[AR, AU, AT, BE, BO, BR, BG, CA, CL, CO, CR, C...</td>\n",
       "      <td>1</td>\n",
       "      <td>195200</td>\n",
       "      <td>False</td>\n",
       "      <td>{'isrc': 'USSUB1825505'}</td>\n",
       "      <td>{'spotify': 'https://open.spotify.com/track/6H...</td>\n",
       "      <td>https://api.spotify.com/v1/tracks/6HbxpoChDH9T...</td>\n",
       "      <td>6HbxpoChDH9ThadFOSAnma</td>\n",
       "      <td>...</td>\n",
       "      <td>0.001900</td>\n",
       "      <td>0.144</td>\n",
       "      <td>0.4250</td>\n",
       "      <td>115.771</td>\n",
       "      <td>audio_features</td>\n",
       "      <td>spotify:track:6HbxpoChDH9ThadFOSAnma</td>\n",
       "      <td>https://api.spotify.com/v1/tracks/6HbxpoChDH9T...</td>\n",
       "      <td>https://api.spotify.com/v1/audio-analysis/6Hbx...</td>\n",
       "      <td>195200</td>\n",
       "      <td>4</td>\n",
       "    </tr>\n",
       "    <tr>\n",
       "      <th>1</th>\n",
       "      <td>{'album_type': 'album', 'artists': [{'external...</td>\n",
       "      <td>[{'external_urls': {'spotify': 'https://open.s...</td>\n",
       "      <td>[AR, AU, AT, BE, BO, BR, BG, CA, CL, CO, CR, C...</td>\n",
       "      <td>1</td>\n",
       "      <td>160666</td>\n",
       "      <td>False</td>\n",
       "      <td>{'isrc': 'USCA28700088'}</td>\n",
       "      <td>{'spotify': 'https://open.spotify.com/track/3A...</td>\n",
       "      <td>https://api.spotify.com/v1/tracks/3AgqQbQWYLGs...</td>\n",
       "      <td>3AgqQbQWYLGsemeBHk1U1d</td>\n",
       "      <td>...</td>\n",
       "      <td>0.000520</td>\n",
       "      <td>0.384</td>\n",
       "      <td>0.0981</td>\n",
       "      <td>86.868</td>\n",
       "      <td>audio_features</td>\n",
       "      <td>spotify:track:3AgqQbQWYLGsemeBHk1U1d</td>\n",
       "      <td>https://api.spotify.com/v1/tracks/3AgqQbQWYLGs...</td>\n",
       "      <td>https://api.spotify.com/v1/audio-analysis/3Agq...</td>\n",
       "      <td>160667</td>\n",
       "      <td>5</td>\n",
       "    </tr>\n",
       "    <tr>\n",
       "      <th>2</th>\n",
       "      <td>{'album_type': 'compilation', 'artists': [{'ex...</td>\n",
       "      <td>[{'external_urls': {'spotify': 'https://open.s...</td>\n",
       "      <td>[AR, AU, AT, BE, BO, BR, BG, CL, CO, CR, CY, C...</td>\n",
       "      <td>13</td>\n",
       "      <td>188933</td>\n",
       "      <td>False</td>\n",
       "      <td>{'isrc': 'USCA29300693'}</td>\n",
       "      <td>{'spotify': 'https://open.spotify.com/track/0O...</td>\n",
       "      <td>https://api.spotify.com/v1/tracks/0OFzGWNvMR7q...</td>\n",
       "      <td>0OFzGWNvMR7qvRsD14dxIT</td>\n",
       "      <td>...</td>\n",
       "      <td>0.000070</td>\n",
       "      <td>0.106</td>\n",
       "      <td>0.1520</td>\n",
       "      <td>178.645</td>\n",
       "      <td>audio_features</td>\n",
       "      <td>spotify:track:0OFzGWNvMR7qvRsD14dxIT</td>\n",
       "      <td>https://api.spotify.com/v1/tracks/0OFzGWNvMR7q...</td>\n",
       "      <td>https://api.spotify.com/v1/audio-analysis/0OFz...</td>\n",
       "      <td>188933</td>\n",
       "      <td>3</td>\n",
       "    </tr>\n",
       "    <tr>\n",
       "      <th>3</th>\n",
       "      <td>{'album_type': 'album', 'artists': [{'external...</td>\n",
       "      <td>[{'external_urls': {'spotify': 'https://open.s...</td>\n",
       "      <td>[AR, AU, AT, BE, BO, BR, BG, CL, CO, CR, CY, C...</td>\n",
       "      <td>1</td>\n",
       "      <td>200755</td>\n",
       "      <td>False</td>\n",
       "      <td>{'isrc': 'GBAHS1100210'}</td>\n",
       "      <td>{'spotify': 'https://open.spotify.com/track/7i...</td>\n",
       "      <td>https://api.spotify.com/v1/tracks/7iBSkXB0pTvZ...</td>\n",
       "      <td>7iBSkXB0pTvZasOLf0Qxk9</td>\n",
       "      <td>...</td>\n",
       "      <td>0.000001</td>\n",
       "      <td>0.124</td>\n",
       "      <td>0.4310</td>\n",
       "      <td>89.013</td>\n",
       "      <td>audio_features</td>\n",
       "      <td>spotify:track:7iBSkXB0pTvZasOLf0Qxk9</td>\n",
       "      <td>https://api.spotify.com/v1/tracks/7iBSkXB0pTvZ...</td>\n",
       "      <td>https://api.spotify.com/v1/audio-analysis/7iBS...</td>\n",
       "      <td>200756</td>\n",
       "      <td>4</td>\n",
       "    </tr>\n",
       "    <tr>\n",
       "      <th>4</th>\n",
       "      <td>{'album_type': 'album', 'artists': [{'external...</td>\n",
       "      <td>[{'external_urls': {'spotify': 'https://open.s...</td>\n",
       "      <td>[AR, AU, AT, BE, BO, BR, BG, CA, CL, CO, CR, C...</td>\n",
       "      <td>1</td>\n",
       "      <td>356626</td>\n",
       "      <td>False</td>\n",
       "      <td>{'isrc': 'USPR35712068'}</td>\n",
       "      <td>{'spotify': 'https://open.spotify.com/track/0f...</td>\n",
       "      <td>https://api.spotify.com/v1/tracks/0f2489MzoisF...</td>\n",
       "      <td>0f2489MzoisF9pKduawvce</td>\n",
       "      <td>...</td>\n",
       "      <td>0.000000</td>\n",
       "      <td>0.137</td>\n",
       "      <td>0.1540</td>\n",
       "      <td>135.335</td>\n",
       "      <td>audio_features</td>\n",
       "      <td>spotify:track:0f2489MzoisF9pKduawvce</td>\n",
       "      <td>https://api.spotify.com/v1/tracks/0f2489MzoisF...</td>\n",
       "      <td>https://api.spotify.com/v1/audio-analysis/0f24...</td>\n",
       "      <td>356627</td>\n",
       "      <td>4</td>\n",
       "    </tr>\n",
       "  </tbody>\n",
       "</table>\n",
       "<p>5 rows × 34 columns</p>\n",
       "</div>"
      ],
      "text/plain": [
       "                                               album  \\\n",
       "0  {'album_type': 'single', 'artists': [{'externa...   \n",
       "1  {'album_type': 'album', 'artists': [{'external...   \n",
       "2  {'album_type': 'compilation', 'artists': [{'ex...   \n",
       "3  {'album_type': 'album', 'artists': [{'external...   \n",
       "4  {'album_type': 'album', 'artists': [{'external...   \n",
       "\n",
       "                                             artists  \\\n",
       "0  [{'external_urls': {'spotify': 'https://open.s...   \n",
       "1  [{'external_urls': {'spotify': 'https://open.s...   \n",
       "2  [{'external_urls': {'spotify': 'https://open.s...   \n",
       "3  [{'external_urls': {'spotify': 'https://open.s...   \n",
       "4  [{'external_urls': {'spotify': 'https://open.s...   \n",
       "\n",
       "                                   available_markets  disc_number  \\\n",
       "0  [AR, AU, AT, BE, BO, BR, BG, CA, CL, CO, CR, C...            1   \n",
       "1  [AR, AU, AT, BE, BO, BR, BG, CA, CL, CO, CR, C...            1   \n",
       "2  [AR, AU, AT, BE, BO, BR, BG, CL, CO, CR, CY, C...           13   \n",
       "3  [AR, AU, AT, BE, BO, BR, BG, CL, CO, CR, CY, C...            1   \n",
       "4  [AR, AU, AT, BE, BO, BR, BG, CA, CL, CO, CR, C...            1   \n",
       "\n",
       "   duration_ms_x  explicit              external_ids  \\\n",
       "0         195200     False  {'isrc': 'USSUB1825505'}   \n",
       "1         160666     False  {'isrc': 'USCA28700088'}   \n",
       "2         188933     False  {'isrc': 'USCA29300693'}   \n",
       "3         200755     False  {'isrc': 'GBAHS1100210'}   \n",
       "4         356626     False  {'isrc': 'USPR35712068'}   \n",
       "\n",
       "                                       external_urls  \\\n",
       "0  {'spotify': 'https://open.spotify.com/track/6H...   \n",
       "1  {'spotify': 'https://open.spotify.com/track/3A...   \n",
       "2  {'spotify': 'https://open.spotify.com/track/0O...   \n",
       "3  {'spotify': 'https://open.spotify.com/track/7i...   \n",
       "4  {'spotify': 'https://open.spotify.com/track/0f...   \n",
       "\n",
       "                                                href                      id  \\\n",
       "0  https://api.spotify.com/v1/tracks/6HbxpoChDH9T...  6HbxpoChDH9ThadFOSAnma   \n",
       "1  https://api.spotify.com/v1/tracks/3AgqQbQWYLGs...  3AgqQbQWYLGsemeBHk1U1d   \n",
       "2  https://api.spotify.com/v1/tracks/0OFzGWNvMR7q...  0OFzGWNvMR7qvRsD14dxIT   \n",
       "3  https://api.spotify.com/v1/tracks/7iBSkXB0pTvZ...  7iBSkXB0pTvZasOLf0Qxk9   \n",
       "4  https://api.spotify.com/v1/tracks/0f2489MzoisF...  0f2489MzoisF9pKduawvce   \n",
       "\n",
       "   ...  instrumentalness liveness  valence    tempo          type_y  \\\n",
       "0  ...          0.001900    0.144   0.4250  115.771  audio_features   \n",
       "1  ...          0.000520    0.384   0.0981   86.868  audio_features   \n",
       "2  ...          0.000070    0.106   0.1520  178.645  audio_features   \n",
       "3  ...          0.000001    0.124   0.4310   89.013  audio_features   \n",
       "4  ...          0.000000    0.137   0.1540  135.335  audio_features   \n",
       "\n",
       "                                  uri_y  \\\n",
       "0  spotify:track:6HbxpoChDH9ThadFOSAnma   \n",
       "1  spotify:track:3AgqQbQWYLGsemeBHk1U1d   \n",
       "2  spotify:track:0OFzGWNvMR7qvRsD14dxIT   \n",
       "3  spotify:track:7iBSkXB0pTvZasOLf0Qxk9   \n",
       "4  spotify:track:0f2489MzoisF9pKduawvce   \n",
       "\n",
       "                                          track_href  \\\n",
       "0  https://api.spotify.com/v1/tracks/6HbxpoChDH9T...   \n",
       "1  https://api.spotify.com/v1/tracks/3AgqQbQWYLGs...   \n",
       "2  https://api.spotify.com/v1/tracks/0OFzGWNvMR7q...   \n",
       "3  https://api.spotify.com/v1/tracks/7iBSkXB0pTvZ...   \n",
       "4  https://api.spotify.com/v1/tracks/0f2489MzoisF...   \n",
       "\n",
       "                                        analysis_url  duration_ms_y  \\\n",
       "0  https://api.spotify.com/v1/audio-analysis/6Hbx...         195200   \n",
       "1  https://api.spotify.com/v1/audio-analysis/3Agq...         160667   \n",
       "2  https://api.spotify.com/v1/audio-analysis/0OFz...         188933   \n",
       "3  https://api.spotify.com/v1/audio-analysis/7iBS...         200756   \n",
       "4  https://api.spotify.com/v1/audio-analysis/0f24...         356627   \n",
       "\n",
       "   time_signature  \n",
       "0               4  \n",
       "1               5  \n",
       "2               3  \n",
       "3               4  \n",
       "4               4  \n",
       "\n",
       "[5 rows x 34 columns]"
      ]
     },
     "execution_count": 67,
     "metadata": {},
     "output_type": "execute_result"
    }
   ],
   "source": [
    "joined_df.head()"
   ]
  }
 ],
 "metadata": {
  "kernelspec": {
   "display_name": "Python 3 (ipykernel)",
   "language": "python",
   "name": "python3"
  },
  "language_info": {
   "codemirror_mode": {
    "name": "ipython",
    "version": 3
   },
   "file_extension": ".py",
   "mimetype": "text/x-python",
   "name": "python",
   "nbconvert_exporter": "python",
   "pygments_lexer": "ipython3",
   "version": "3.11.4"
  }
 },
 "nbformat": 4,
 "nbformat_minor": 5
}
