{
 "cells": [
  {
   "cell_type": "markdown",
   "id": "3e9345c0",
   "metadata": {},
   "source": [
    "#### Resizing an image in Markdown cells\n",
    "\n",
    "First you need an image file to reference. This can either be on your local device or an online source. You will need to use the path to the image.\n",
    "\n",
    "##### The full size original image\n",
    "\n",
    "The syntax:\n",
    "`![Street Tripple](https://upload.wikimedia.org/wikipedia/commons/thumb/4/49/2014_Triumph_Street_Triple_R_matte_graphite_right_2.JPG/1920px-2014_Triumph_Street_Triple_R_matte_graphite_right_2.JPG)`\n",
    "\n",
    "The result:\n",
    "![Street Tripple](https://upload.wikimedia.org/wikipedia/commons/thumb/4/49/2014_Triumph_Street_Triple_R_matte_graphite_right_2.JPG/1920px-2014_Triumph_Street_Triple_R_matte_graphite_right_2.JPG)\n",
    "\n",
    "###### The resized image to make it smaller\n",
    "\n",
    "This requires using HTML instead of the Markdown syntax.\n",
    "\n",
    "The syntax:\n",
    "```\n",
    "<div>\n",
    "    <img src=\"https://upload.wikimedia.org/wikipedia/commons/thumb/4/49/2014_Triumph_Street_Triple_R_matte_graphite_right_2.JPG/1920px-2014_Triumph_Street_Triple_R_matte_graphite_right_2.JPG\" width=\"100\" alt=\"Stree Triple\"/>\n",
    "    </div>\n",
    "```\n",
    "\n",
    "The result:\n",
    "<div>\n",
    "    <img src=\"https://upload.wikimedia.org/wikipedia/commons/thumb/4/49/2014_Triumph_Street_Triple_R_matte_graphite_right_2.JPG/1920px-2014_Triumph_Street_Triple_R_matte_graphite_right_2.JPG\" width=\"100\" alt=\"Stree Triple\"/>\n",
    "    </div>"
   ]
  }
 ],
 "metadata": {
  "kernelspec": {
   "display_name": "Python 3 (ipykernel)",
   "language": "python",
   "name": "python3"
  },
  "language_info": {
   "codemirror_mode": {
    "name": "ipython",
    "version": 3
   },
   "file_extension": ".py",
   "mimetype": "text/x-python",
   "name": "python",
   "nbconvert_exporter": "python",
   "pygments_lexer": "ipython3",
   "version": "3.11.4"
  }
 },
 "nbformat": 4,
 "nbformat_minor": 5
}
