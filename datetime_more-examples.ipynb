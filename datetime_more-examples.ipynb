{
 "cells": [
  {
   "cell_type": "code",
   "execution_count": 1,
   "id": "13394f0b",
   "metadata": {},
   "outputs": [],
   "source": [
    "from datetime import datetime as dt\n",
    "from datetime import timedelta as td"
   ]
  },
  {
   "cell_type": "code",
   "execution_count": 2,
   "id": "da2cd48c",
   "metadata": {},
   "outputs": [],
   "source": [
    "a_time = '4m, 2s'"
   ]
  },
  {
   "cell_type": "code",
   "execution_count": 3,
   "id": "0ce5d595",
   "metadata": {},
   "outputs": [],
   "source": [
    "dt_time = dt.strptime(a_time, '%Mm, %Ss')"
   ]
  },
  {
   "cell_type": "code",
   "execution_count": 4,
   "id": "6b67e88f",
   "metadata": {},
   "outputs": [
    {
     "data": {
      "text/plain": [
       "(4, 2)"
      ]
     },
     "execution_count": 4,
     "metadata": {},
     "output_type": "execute_result"
    }
   ],
   "source": [
    "dt_time.minute, dt_time.second"
   ]
  },
  {
   "cell_type": "code",
   "execution_count": 5,
   "id": "caa0256d",
   "metadata": {},
   "outputs": [
    {
     "data": {
      "text/plain": [
       "datetime.timedelta(seconds=242)"
      ]
     },
     "execution_count": 5,
     "metadata": {},
     "output_type": "execute_result"
    }
   ],
   "source": [
    "td(minutes = dt_time.minute, seconds = dt_time.second)"
   ]
  },
  {
   "cell_type": "markdown",
   "id": "da6c15c4",
   "metadata": {},
   "source": [
    "Need to run once in the console:\n",
    "```\n",
    "pip install nbconvert\n",
    "pip install pyppeteer\n",
    "```"
   ]
  },
  {
   "cell_type": "code",
   "execution_count": 6,
   "id": "0f789cfb",
   "metadata": {},
   "outputs": [
    {
     "name": "stderr",
     "output_type": "stream",
     "text": [
      "[NbConvertApp] Converting notebook datetime_more-examples.ipynb to webpdf\n",
      "[NbConvertApp] Building PDF\n",
      "[NbConvertApp] PDF successfully created\n",
      "[NbConvertApp] Writing 104462 bytes to datetime_more-examples.pdf\n"
     ]
    }
   ],
   "source": [
    "!jupyter nbconvert --to webpdf --allow-chromium-download datetime_more-examples.ipynb"
   ]
  }
 ],
 "metadata": {
  "kernelspec": {
   "display_name": "Python 3 (ipykernel)",
   "language": "python",
   "name": "python3"
  },
  "language_info": {
   "codemirror_mode": {
    "name": "ipython",
    "version": 3
   },
   "file_extension": ".py",
   "mimetype": "text/x-python",
   "name": "python",
   "nbconvert_exporter": "python",
   "pygments_lexer": "ipython3",
   "version": "3.11.4"
  }
 },
 "nbformat": 4,
 "nbformat_minor": 5
}
